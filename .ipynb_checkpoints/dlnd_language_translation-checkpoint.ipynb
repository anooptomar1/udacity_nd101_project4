{
 "cells": [
  {
   "cell_type": "markdown",
   "metadata": {
    "collapsed": true,
    "deletable": true,
    "editable": true
   },
   "source": [
    "# Language Translation\n",
    "In this project, you’re going to take a peek into the realm of neural network machine translation.  You’ll be training a sequence to sequence model on a dataset of English and French sentences that can translate new sentences from English to French.\n",
    "## Get the Data\n",
    "Since translating the whole language of English to French will take lots of time to train, we have provided you with a small portion of the English corpus."
   ]
  },
  {
   "cell_type": "code",
   "execution_count": 9,
   "metadata": {
    "collapsed": true,
    "deletable": true,
    "editable": true
   },
   "outputs": [],
   "source": [
    "\"\"\"\n",
    "DON'T MODIFY ANYTHING IN THIS CELL\n",
    "\"\"\"\n",
    "import helper\n",
    "import problem_unittests as tests\n",
    "\n",
    "source_path = 'data/small_vocab_en'\n",
    "target_path = 'data/small_vocab_fr'\n",
    "source_text = helper.load_data(source_path)\n",
    "target_text = helper.load_data(target_path)"
   ]
  },
  {
   "cell_type": "markdown",
   "metadata": {
    "deletable": true,
    "editable": true
   },
   "source": [
    "## Explore the Data\n",
    "Play around with view_sentence_range to view different parts of the data."
   ]
  },
  {
   "cell_type": "code",
   "execution_count": 10,
   "metadata": {
    "collapsed": false,
    "deletable": true,
    "editable": true
   },
   "outputs": [
    {
     "name": "stdout",
     "output_type": "stream",
     "text": [
      "Dataset Stats\n",
      "Roughly the number of unique words: 227\n",
      "Number of sentences: 137861\n",
      "Average number of words in a sentence: 13.225277634719028\n",
      "\n",
      "English sentences 0 to 10:\n",
      "new jersey is sometimes quiet during autumn , and it is snowy in april .\n",
      "the united states is usually chilly during july , and it is usually freezing in november .\n",
      "california is usually quiet during march , and it is usually hot in june .\n",
      "the united states is sometimes mild during june , and it is cold in september .\n",
      "your least liked fruit is the grape , but my least liked is the apple .\n",
      "his favorite fruit is the orange , but my favorite is the grape .\n",
      "paris is relaxing during december , but it is usually chilly in july .\n",
      "new jersey is busy during spring , and it is never hot in march .\n",
      "our least liked fruit is the lemon , but my least liked is the grape .\n",
      "the united states is sometimes busy during january , and it is sometimes warm in november .\n",
      "\n",
      "French sentences 0 to 10:\n",
      "new jersey est parfois calme pendant l' automne , et il est neigeux en avril .\n",
      "les états-unis est généralement froid en juillet , et il gèle habituellement en novembre .\n",
      "california est généralement calme en mars , et il est généralement chaud en juin .\n",
      "les états-unis est parfois légère en juin , et il fait froid en septembre .\n",
      "votre moins aimé fruit est le raisin , mais mon moins aimé est la pomme .\n",
      "son fruit préféré est l'orange , mais mon préféré est le raisin .\n",
      "paris est relaxant en décembre , mais il est généralement froid en juillet .\n",
      "new jersey est occupé au printemps , et il est jamais chaude en mars .\n",
      "notre fruit est moins aimé le citron , mais mon moins aimé est le raisin .\n",
      "les états-unis est parfois occupé en janvier , et il est parfois chaud en novembre .\n"
     ]
    }
   ],
   "source": [
    "view_sentence_range = (0, 10)\n",
    "\n",
    "\"\"\"\n",
    "DON'T MODIFY ANYTHING IN THIS CELL\n",
    "\"\"\"\n",
    "import numpy as np\n",
    "\n",
    "print('Dataset Stats')\n",
    "print('Roughly the number of unique words: {}'.format(len({word: None for word in source_text.split()})))\n",
    "\n",
    "sentences = source_text.split('\\n')\n",
    "word_counts = [len(sentence.split()) for sentence in sentences]\n",
    "print('Number of sentences: {}'.format(len(sentences)))\n",
    "print('Average number of words in a sentence: {}'.format(np.average(word_counts)))\n",
    "\n",
    "print()\n",
    "print('English sentences {} to {}:'.format(*view_sentence_range))\n",
    "print('\\n'.join(source_text.split('\\n')[view_sentence_range[0]:view_sentence_range[1]]))\n",
    "print()\n",
    "print('French sentences {} to {}:'.format(*view_sentence_range))\n",
    "print('\\n'.join(target_text.split('\\n')[view_sentence_range[0]:view_sentence_range[1]]))"
   ]
  },
  {
   "cell_type": "markdown",
   "metadata": {
    "deletable": true,
    "editable": true
   },
   "source": [
    "## Implement Preprocessing Function\n",
    "### Text to Word Ids\n",
    "As you did with other RNNs, you must turn the text into a number so the computer can understand it. In the function `text_to_ids()`, you'll turn `source_text` and `target_text` from words to ids.  However, you need to add the `<EOS>` word id at the end of each sentence from `target_text`.  This will help the neural network predict when the sentence should end.\n",
    "\n",
    "You can get the `<EOS>` word id by doing:\n",
    "```python\n",
    "target_vocab_to_int['<EOS>']\n",
    "```\n",
    "You can get other word ids using `source_vocab_to_int` and `target_vocab_to_int`."
   ]
  },
  {
   "cell_type": "code",
   "execution_count": 11,
   "metadata": {
    "collapsed": false,
    "deletable": true,
    "editable": true
   },
   "outputs": [
    {
     "name": "stdout",
     "output_type": "stream",
     "text": [
      "Tests Passed\n"
     ]
    }
   ],
   "source": [
    "def text_to_ids(source_text, target_text, source_vocab_to_int, target_vocab_to_int):\n",
    "    \"\"\"\n",
    "    Convert source and target text to proper word ids\n",
    "    :param source_text: String that contains all the source text.\n",
    "    :param target_text: String that contains all the target text.\n",
    "    :param source_vocab_to_int: Dictionary to go from the source words to an id\n",
    "    :param target_vocab_to_int: Dictionary to go from the target words to an id\n",
    "    :return: A tuple of lists (source_id_text, target_id_text)\n",
    "    \"\"\"\n",
    "    # TODO: Implement Function    \n",
    "    \n",
    "    source_id_text = [[source_vocab_to_int.get(word, source_vocab_to_int['<UNK>']) for word in line.split()] for line in source_text.split('\\n')]\n",
    "    target_id_text = [[target_vocab_to_int.get(word, target_vocab_to_int['<UNK>']) for word in line.split()] + [target_vocab_to_int['<EOS>']] for line in target_text.split('\\n')]    \n",
    "    \n",
    "    return source_id_text, target_id_text\n",
    "\n",
    "\"\"\"\n",
    "DON'T MODIFY ANYTHING IN THIS CELL THAT IS BELOW THIS LINE\n",
    "\"\"\"\n",
    "tests.test_text_to_ids(text_to_ids)"
   ]
  },
  {
   "cell_type": "markdown",
   "metadata": {
    "deletable": true,
    "editable": true
   },
   "source": [
    "### Preprocess all the data and save it\n",
    "Running the code cell below will preprocess all the data and save it to file."
   ]
  },
  {
   "cell_type": "code",
   "execution_count": 12,
   "metadata": {
    "collapsed": true,
    "deletable": true,
    "editable": true
   },
   "outputs": [],
   "source": [
    "\"\"\"\n",
    "DON'T MODIFY ANYTHING IN THIS CELL\n",
    "\"\"\"\n",
    "helper.preprocess_and_save_data(source_path, target_path, text_to_ids)"
   ]
  },
  {
   "cell_type": "markdown",
   "metadata": {
    "deletable": true,
    "editable": true
   },
   "source": [
    "# Check Point\n",
    "This is your first checkpoint. If you ever decide to come back to this notebook or have to restart the notebook, you can start from here. The preprocessed data has been saved to disk."
   ]
  },
  {
   "cell_type": "code",
   "execution_count": 13,
   "metadata": {
    "collapsed": true,
    "deletable": true,
    "editable": true
   },
   "outputs": [],
   "source": [
    "\"\"\"\n",
    "DON'T MODIFY ANYTHING IN THIS CELL\n",
    "\"\"\"\n",
    "import numpy as np\n",
    "import helper\n",
    "\n",
    "(source_int_text, target_int_text), (source_vocab_to_int, target_vocab_to_int), _ = helper.load_preprocess()"
   ]
  },
  {
   "cell_type": "markdown",
   "metadata": {
    "deletable": true,
    "editable": true
   },
   "source": [
    "### Check the Version of TensorFlow and Access to GPU\n",
    "This will check to make sure you have the correct version of TensorFlow and access to a GPU"
   ]
  },
  {
   "cell_type": "code",
   "execution_count": 14,
   "metadata": {
    "collapsed": false,
    "deletable": true,
    "editable": true
   },
   "outputs": [
    {
     "name": "stdout",
     "output_type": "stream",
     "text": [
      "TensorFlow Version: 1.0.0\n"
     ]
    },
    {
     "name": "stderr",
     "output_type": "stream",
     "text": [
      "/home/carnd/anaconda3/envs/dl/lib/python3.5/site-packages/ipykernel/__main__.py:14: UserWarning: No GPU found. Please use a GPU to train your neural network.\n"
     ]
    }
   ],
   "source": [
    "\"\"\"\n",
    "DON'T MODIFY ANYTHING IN THIS CELL\n",
    "\"\"\"\n",
    "from distutils.version import LooseVersion\n",
    "import warnings\n",
    "import tensorflow as tf\n",
    "\n",
    "# Check TensorFlow Version\n",
    "assert LooseVersion(tf.__version__) >= LooseVersion('1.0'), 'Please use TensorFlow version 1.0 or newer'\n",
    "print('TensorFlow Version: {}'.format(tf.__version__))\n",
    "\n",
    "# Check for a GPU\n",
    "if not tf.test.gpu_device_name():\n",
    "    warnings.warn('No GPU found. Please use a GPU to train your neural network.')\n",
    "else:\n",
    "    print('Default GPU Device: {}'.format(tf.test.gpu_device_name()))"
   ]
  },
  {
   "cell_type": "markdown",
   "metadata": {
    "deletable": true,
    "editable": true
   },
   "source": [
    "## Build the Neural Network\n",
    "You'll build the components necessary to build a Sequence-to-Sequence model by implementing the following functions below:\n",
    "- `model_inputs`\n",
    "- `process_decoding_input`\n",
    "- `encoding_layer`\n",
    "- `decoding_layer_train`\n",
    "- `decoding_layer_infer`\n",
    "- `decoding_layer`\n",
    "- `seq2seq_model`\n",
    "\n",
    "### Input\n",
    "Implement the `model_inputs()` function to create TF Placeholders for the Neural Network. It should create the following placeholders:\n",
    "\n",
    "- Input text placeholder named \"input\" using the TF Placeholder name parameter with rank 2.\n",
    "- Targets placeholder with rank 2.\n",
    "- Learning rate placeholder with rank 0.\n",
    "- Keep probability placeholder named \"keep_prob\" using the TF Placeholder name parameter with rank 0.\n",
    "\n",
    "Return the placeholders in the following the tuple (Input, Targets, Learing Rate, Keep Probability)"
   ]
  },
  {
   "cell_type": "code",
   "execution_count": 15,
   "metadata": {
    "collapsed": false,
    "deletable": true,
    "editable": true
   },
   "outputs": [
    {
     "name": "stdout",
     "output_type": "stream",
     "text": [
      "Tests Passed\n"
     ]
    }
   ],
   "source": [
    "def model_inputs():\n",
    "    \"\"\"\n",
    "    Create TF Placeholders for input, targets, and learning rate.\n",
    "    :return: Tuple (input, targets, learning rate, keep probability)\n",
    "    \"\"\"\n",
    "    # TODO: Implement Function\n",
    "    \n",
    "    input_ = tf.placeholder(tf.int32, [None, None], name='input')\n",
    "    targets = tf.placeholder(tf.int32, [None, None], name='targets')\n",
    "    learning_rate = tf.placeholder(tf.float32, name='learning_rate')\n",
    "    keep_prob = tf.placeholder(tf.float32, name='keep_prob')\n",
    "    \n",
    "    return (input_, targets, learning_rate, keep_prob)\n",
    "\n",
    "\"\"\"\n",
    "DON'T MODIFY ANYTHING IN THIS CELL THAT IS BELOW THIS LINE\n",
    "\"\"\"\n",
    "tests.test_model_inputs(model_inputs)"
   ]
  },
  {
   "cell_type": "markdown",
   "metadata": {
    "deletable": true,
    "editable": true
   },
   "source": [
    "### Process Decoding Input\n",
    "Implement `process_decoding_input` using TensorFlow to remove the last word id from each batch in `target_data` and concat the GO ID to the begining of each batch."
   ]
  },
  {
   "cell_type": "code",
   "execution_count": 16,
   "metadata": {
    "collapsed": false,
    "deletable": true,
    "editable": true
   },
   "outputs": [
    {
     "name": "stdout",
     "output_type": "stream",
     "text": [
      "Tests Passed\n"
     ]
    }
   ],
   "source": [
    "def process_decoding_input(target_data, target_vocab_to_int, batch_size):\n",
    "    \"\"\"\n",
    "    Preprocess target data for dencoding\n",
    "    :param target_data: Target Placehoder\n",
    "    :param target_vocab_to_int: Dictionary to go from the target words to an id\n",
    "    :param batch_size: Batch Size\n",
    "    :return: Preprocessed target data\n",
    "    \"\"\"\n",
    "    ending = tf.strided_slice(target_data, [0, 0], [batch_size, -1], [1, 1])\n",
    "    dec_input = tf.concat([tf.fill([batch_size, 1], target_vocab_to_int['<GO>']), ending], 1)\n",
    "    \n",
    "    return dec_input\n",
    "\n",
    "\"\"\"\n",
    "DON'T MODIFY ANYTHING IN THIS CELL THAT IS BELOW THIS LINE\n",
    "\"\"\"\n",
    "tests.test_process_decoding_input(process_decoding_input)"
   ]
  },
  {
   "cell_type": "markdown",
   "metadata": {
    "deletable": true,
    "editable": true
   },
   "source": [
    "### Encoding\n",
    "Implement `encoding_layer()` to create a Encoder RNN layer using [`tf.nn.dynamic_rnn()`](https://www.tensorflow.org/api_docs/python/tf/nn/dynamic_rnn)."
   ]
  },
  {
   "cell_type": "code",
   "execution_count": 17,
   "metadata": {
    "collapsed": false,
    "deletable": true,
    "editable": true
   },
   "outputs": [
    {
     "name": "stdout",
     "output_type": "stream",
     "text": [
      "Tests Passed\n"
     ]
    }
   ],
   "source": [
    "def encoding_layer(rnn_inputs, rnn_size, num_layers, keep_prob):\n",
    "    \"\"\"\n",
    "    Create encoding layer\n",
    "    :param rnn_inputs: Inputs for the RNN\n",
    "    :param rnn_size: RNN Size\n",
    "    :param num_layers: Number of layers\n",
    "    :param keep_prob: Dropout keep probability\n",
    "    :return: RNN state\n",
    "    \"\"\"\n",
    "    # TODO: Implement Function\n",
    "    \n",
    "    # drop out \n",
    "#     rnn_inputs = tf.nn.dropout(rnn_inputs, keep_prob)\n",
    "    \n",
    "#     enc_cell = tf.contrib.rnn.MultiRNNCell([tf.contrib.rnn.BasicLSTMCell(rnn_size)] * num_layers)            \n",
    "#     _, enc_state = tf.nn.dynamic_rnn(enc_cell, rnn_inputs, dtype=tf.float32)  \n",
    "\n",
    "    lstm = tf.contrib.rnn.BasicLSTMCell(rnn_size)\n",
    "    enc_cell = tf.contrib.rnn.MultiRNNCell([lstm]*num_layers)\n",
    "    enc_cell = tf.contrib.rnn.DropoutWrapper(enc_cell, output_keep_prob=keep_prob)\n",
    "    _, enc_state = tf.nn.dynamic_rnn(enc_cell, rnn_inputs, dtype=tf.float32)\n",
    "    \n",
    "    return enc_state\n",
    "\n",
    "\"\"\"\n",
    "DON'T MODIFY ANYTHING IN THIS CELL THAT IS BELOW THIS LINE\n",
    "\"\"\"\n",
    "tests.test_encoding_layer(encoding_layer)"
   ]
  },
  {
   "cell_type": "markdown",
   "metadata": {
    "deletable": true,
    "editable": true
   },
   "source": [
    "### Decoding - Training\n",
    "Create training logits using [`tf.contrib.seq2seq.simple_decoder_fn_train()`](https://www.tensorflow.org/api_docs/python/tf/contrib/seq2seq/simple_decoder_fn_train) and [`tf.contrib.seq2seq.dynamic_rnn_decoder()`](https://www.tensorflow.org/api_docs/python/tf/contrib/seq2seq/dynamic_rnn_decoder).  Apply the `output_fn` to the [`tf.contrib.seq2seq.dynamic_rnn_decoder()`](https://www.tensorflow.org/api_docs/python/tf/contrib/seq2seq/dynamic_rnn_decoder) outputs."
   ]
  },
  {
   "cell_type": "code",
   "execution_count": 18,
   "metadata": {
    "collapsed": false,
    "deletable": true,
    "editable": true
   },
   "outputs": [
    {
     "name": "stdout",
     "output_type": "stream",
     "text": [
      "Tests Passed\n"
     ]
    }
   ],
   "source": [
    "def decoding_layer_train(encoder_state, dec_cell, dec_embed_input, sequence_length, decoding_scope,\n",
    "                         output_fn, keep_prob):\n",
    "    \"\"\"\n",
    "    Create a decoding layer for training\n",
    "    :param encoder_state: Encoder State\n",
    "    :param dec_cell: Decoder RNN Cell\n",
    "    :param dec_embed_input: Decoder embedded input\n",
    "    :param sequence_length: Sequence Length\n",
    "    :param decoding_scope: TenorFlow Variable Scope for decoding\n",
    "    :param output_fn: Function to apply the output layer\n",
    "    :param keep_prob: Dropout keep probability\n",
    "    :return: Train Logits\n",
    "    \"\"\"\n",
    "    # TODO: Implement Function\n",
    "    # Training Decoder\n",
    "    train_decoder_fn = tf.contrib.seq2seq.simple_decoder_fn_train(encoder_state)\n",
    "    train_pred, _, _ = tf.contrib.seq2seq.dynamic_rnn_decoder(\n",
    "        dec_cell, train_decoder_fn, dec_embed_input, sequence_length, scope=decoding_scope)\n",
    "    \n",
    "    # drop out \n",
    "    #train_pred = tf.nn.dropout(train_pred, keep_prob)\n",
    "    \n",
    "    # Apply output function\n",
    "    train_logits =  output_fn(train_pred)\n",
    "    \n",
    "    # drop out \n",
    "    train_logits = tf.nn.dropout(train_logits, keep_prob)\n",
    "    \n",
    "    return train_logits\n",
    "\n",
    "\n",
    "\"\"\"\n",
    "DON'T MODIFY ANYTHING IN THIS CELL THAT IS BELOW THIS LINE\n",
    "\"\"\"\n",
    "tests.test_decoding_layer_train(decoding_layer_train)"
   ]
  },
  {
   "cell_type": "markdown",
   "metadata": {
    "deletable": true,
    "editable": true
   },
   "source": [
    "### Decoding - Inference\n",
    "Create inference logits using [`tf.contrib.seq2seq.simple_decoder_fn_inference()`](https://www.tensorflow.org/api_docs/python/tf/contrib/seq2seq/simple_decoder_fn_inference) and [`tf.contrib.seq2seq.dynamic_rnn_decoder()`](https://www.tensorflow.org/api_docs/python/tf/contrib/seq2seq/dynamic_rnn_decoder). "
   ]
  },
  {
   "cell_type": "code",
   "execution_count": 19,
   "metadata": {
    "collapsed": false,
    "deletable": true,
    "editable": true
   },
   "outputs": [
    {
     "name": "stdout",
     "output_type": "stream",
     "text": [
      "Tests Passed\n"
     ]
    }
   ],
   "source": [
    "def decoding_layer_infer(encoder_state, dec_cell, dec_embeddings, start_of_sequence_id, end_of_sequence_id,\n",
    "                         maximum_length, vocab_size, decoding_scope, output_fn, keep_prob):\n",
    "    \"\"\"\n",
    "    Create a decoding layer for inference\n",
    "    CHANGE: Removed dropout - thanks for the link https://blogs.nvidia.com/blog/2016/08/22/difference-deep-learning-training-inference-ai/\n",
    "    :param encoder_state: Encoder state\n",
    "    :param dec_cell: Decoder RNN Cell\n",
    "    :param dec_embeddings: Decoder embeddings\n",
    "    :param start_of_sequence_id: GO ID\n",
    "    :param end_of_sequence_id: EOS Id\n",
    "    :param maximum_length: Maximum length of \n",
    "    :param vocab_size: Size of vocabulary\n",
    "    :param decoding_scope: TensorFlow Variable Scope for decoding\n",
    "    :param output_fn: Function to apply the output layer\n",
    "    :param keep_prob: Dropout keep probability\n",
    "    :return: Inference Logits\n",
    "    \"\"\"\n",
    "    # TODO: Implement Function\n",
    "    \n",
    "    infer_decoder_fn = tf.contrib.seq2seq.simple_decoder_fn_inference(\n",
    "        output_fn, \n",
    "        encoder_state, \n",
    "        dec_embeddings, \n",
    "        start_of_sequence_id, \n",
    "        end_of_sequence_id, \n",
    "        maximum_length-1, \n",
    "        vocab_size\n",
    "    )\n",
    "    \n",
    "    inference_logits, _, _ = tf.contrib.seq2seq.dynamic_rnn_decoder(\n",
    "        dec_cell, \n",
    "        infer_decoder_fn, \n",
    "        scope=decoding_scope\n",
    "    )\n",
    "        \n",
    "    return inference_logits\n",
    "\n",
    "\n",
    "\"\"\"\n",
    "DON'T MODIFY ANYTHING IN THIS CELL THAT IS BELOW THIS LINE\n",
    "\"\"\"\n",
    "tests.test_decoding_layer_infer(decoding_layer_infer)"
   ]
  },
  {
   "cell_type": "markdown",
   "metadata": {
    "deletable": true,
    "editable": true
   },
   "source": [
    "### Build the Decoding Layer\n",
    "Implement `decoding_layer()` to create a Decoder RNN layer.\n",
    "\n",
    "- Create RNN cell for decoding using `rnn_size` and `num_layers`.\n",
    "- Create the output fuction using [`lambda`](https://docs.python.org/3/tutorial/controlflow.html#lambda-expressions) to transform it's input, logits, to class logits.\n",
    "- Use the your `decoding_layer_train(encoder_state, dec_cell, dec_embed_input, sequence_length, decoding_scope, output_fn, keep_prob)` function to get the training logits.\n",
    "- Use your `decoding_layer_infer(encoder_state, dec_cell, dec_embeddings, start_of_sequence_id, end_of_sequence_id, maximum_length, vocab_size, decoding_scope, output_fn, keep_prob)` function to get the inference logits.\n",
    "\n",
    "Note: You'll need to use [tf.variable_scope](https://www.tensorflow.org/api_docs/python/tf/variable_scope) to share variables between training and inference."
   ]
  },
  {
   "cell_type": "code",
   "execution_count": 20,
   "metadata": {
    "collapsed": false,
    "deletable": true,
    "editable": true
   },
   "outputs": [
    {
     "name": "stdout",
     "output_type": "stream",
     "text": [
      "Tests Passed\n"
     ]
    }
   ],
   "source": [
    "def decoding_layer(dec_embed_input, dec_embeddings, encoder_state, vocab_size, sequence_length, rnn_size,\n",
    "                   num_layers, target_vocab_to_int, keep_prob):\n",
    "    \"\"\"\n",
    "    Create decoding layer\n",
    "    CHANGE: Collapsed 2 scope blocks into one (as recommended) \n",
    "    :param dec_embed_input: Decoder embedded input\n",
    "    :param dec_embeddings: Decoder embeddings\n",
    "    :param encoder_state: The encoded state\n",
    "    :param vocab_size: Size of vocabulary\n",
    "    :param sequence_length: Sequence Length\n",
    "    :param rnn_size: RNN Size\n",
    "    :param num_layers: Number of layers\n",
    "    :param target_vocab_to_int: Dictionary to go from the target words to an id\n",
    "    :param keep_prob: Dropout keep probability\n",
    "    :return: Tuple of (Training Logits, Inference Logits)\n",
    "    \"\"\"\n",
    "    # TODO: Implement Function\n",
    "    \n",
    "    \"\"\"\n",
    "    # drop out \n",
    "    rnn_inputs = tf.nn.dropout(rnn_inputs, keep_prob)\n",
    "    \n",
    "    enc_cell = tf.contrib.rnn.MultiRNNCell([tf.contrib.rnn.BasicLSTMCell(rnn_size)] * num_layers)            \n",
    "    _, enc_state = tf.nn.dynamic_rnn(enc_cell, rnn_inputs, dtype=tf.float32)    \n",
    "    \n",
    "    return enc_state\n",
    "    \"\"\"\n",
    "    \n",
    "    # Create RNN cell for decoding using rnn_size and num_layers.\n",
    "    dec_cell = tf.contrib.rnn.MultiRNNCell([tf.contrib.rnn.BasicLSTMCell(rnn_size)] * num_layers) \n",
    "\n",
    "    with tf.variable_scope(\"decoding\") as decoding_scope:\n",
    "        output_fn = lambda x: tf.contrib.layers.fully_connected(x, vocab_size, None, scope=decoding_scope)\n",
    "        train_logits = decoding_layer_train(\n",
    "            encoder_state, \n",
    "            dec_cell, \n",
    "            dec_embed_input, \n",
    "            sequence_length, \n",
    "            decoding_scope, \n",
    "            output_fn, \n",
    "            keep_prob\n",
    "        )\n",
    "\n",
    "    with tf.variable_scope(\"decoding\", reuse=True) as decoding_scope:\n",
    "        inference_logits = decoding_layer_infer(\n",
    "            encoder_state, \n",
    "            dec_cell, \n",
    "            dec_embeddings, \n",
    "            target_vocab_to_int['<GO>'], \n",
    "            target_vocab_to_int['<EOS>'], \n",
    "            sequence_length, \n",
    "            vocab_size, \n",
    "            decoding_scope, \n",
    "            output_fn, \n",
    "            keep_prob\n",
    "        )\n",
    "\n",
    "    return (train_logits, inference_logits)\n",
    "\n",
    "\"\"\"\n",
    "DON'T MODIFY ANYTHING IN THIS CELL THAT IS BELOW THIS LINE\n",
    "\"\"\"\n",
    "tests.test_decoding_layer(decoding_layer)"
   ]
  },
  {
   "cell_type": "markdown",
   "metadata": {
    "deletable": true,
    "editable": true
   },
   "source": [
    "### Build the Neural Network\n",
    "Apply the functions you implemented above to:\n",
    "\n",
    "- Apply embedding to the input data for the encoder.\n",
    "- Encode the input using your `encoding_layer(rnn_inputs, rnn_size, num_layers, keep_prob)`.\n",
    "- Process target data using your `process_decoding_input(target_data, target_vocab_to_int, batch_size)` function.\n",
    "- Apply embedding to the target data for the decoder.\n",
    "- Decode the encoded input using your `decoding_layer(dec_embed_input, dec_embeddings, encoder_state, vocab_size, sequence_length, rnn_size, num_layers, target_vocab_to_int, keep_prob)`."
   ]
  },
  {
   "cell_type": "code",
   "execution_count": 21,
   "metadata": {
    "collapsed": false,
    "deletable": true,
    "editable": true
   },
   "outputs": [
    {
     "name": "stdout",
     "output_type": "stream",
     "text": [
      "Tests Passed\n"
     ]
    }
   ],
   "source": [
    "def seq2seq_model(input_data, target_data, keep_prob, batch_size, sequence_length, source_vocab_size, target_vocab_size,\n",
    "                  enc_embedding_size, dec_embedding_size, rnn_size, num_layers, target_vocab_to_int):\n",
    "    \"\"\"\n",
    "    Build the Sequence-to-Sequence part of the neural network\n",
    "    :param input_data: Input placeholder\n",
    "    :param target_data: Target placeholder\n",
    "    :param keep_prob: Dropout keep probability placeholder\n",
    "    :param batch_size: Batch Size\n",
    "    :param sequence_length: Sequence Length\n",
    "    :param source_vocab_size: Source vocabulary size\n",
    "    :param target_vocab_size: Target vocabulary size\n",
    "    :param enc_embedding_size: Decoder embedding size\n",
    "    :param dec_embedding_size: Encoder embedding size\n",
    "    :param rnn_size: RNN Size\n",
    "    :param num_layers: Number of layers\n",
    "    :param target_vocab_to_int: Dictionary to go from the target words to an id\n",
    "    :return: Tuple of (Training Logits, Inference Logits)\n",
    "    \"\"\"\n",
    "    # TODO: Implement Function\n",
    "    \n",
    "    # Apply embedding to the input data for the encoder.\n",
    "    enc_embed_input = tf.contrib.layers.embed_sequence(\n",
    "        input_data, \n",
    "        source_vocab_size, \n",
    "        enc_embedding_size\n",
    "    )\n",
    "    \n",
    "    # Encode the input using your encoding_layer(rnn_inputs, rnn_size, num_layers, keep_prob).\n",
    "    enc_state = encoding_layer(\n",
    "        enc_embed_input, \n",
    "        rnn_size, \n",
    "        num_layers, \n",
    "        keep_prob\n",
    "    )\n",
    "    \n",
    "    # Process target data using your process_decoding_input(target_data, target_vocab_to_int, batch_size) function.\n",
    "    dec_input = process_decoding_input(\n",
    "        target_data, \n",
    "        target_vocab_to_int, \n",
    "        batch_size\n",
    "    )\n",
    "    \n",
    "    # Apply embedding to the target data for the decoder.\n",
    "    dec_embeddings = tf.Variable(tf.random_uniform([target_vocab_size, dec_embedding_size]))\n",
    "    dec_embed_input = tf.nn.embedding_lookup(dec_embeddings, dec_input)\n",
    "    \n",
    "    # Decode the encoded input using your decoding_layer(dec_embed_input, dec_embeddings, \n",
    "    # encoder_state, vocab_size, sequence_length, rnn_size, num_layers, target_vocab_to_int, keep_prob).\n",
    "    train_logits, inference_logits = decoding_layer(\n",
    "        dec_embed_input, \n",
    "        dec_embeddings, \n",
    "        enc_state, \n",
    "        target_vocab_size, \n",
    "        sequence_length, \n",
    "        rnn_size, \n",
    "        num_layers, \n",
    "        target_vocab_to_int, \n",
    "        keep_prob\n",
    "    )\n",
    "    \n",
    "    return (train_logits, inference_logits)\n",
    "\n",
    "\n",
    "\"\"\"\n",
    "DON'T MODIFY ANYTHING IN THIS CELL THAT IS BELOW THIS LINE\n",
    "\"\"\"\n",
    "tests.test_seq2seq_model(seq2seq_model)"
   ]
  },
  {
   "cell_type": "markdown",
   "metadata": {
    "deletable": true,
    "editable": true
   },
   "source": [
    "## Neural Network Training\n",
    "### Hyperparameters\n",
    "Tune the following parameters:\n",
    "\n",
    "- Set `epochs` to the number of epochs.\n",
    "- Set `batch_size` to the batch size.\n",
    "- Set `rnn_size` to the size of the RNNs.\n",
    "- Set `num_layers` to the number of layers.\n",
    "- Set `encoding_embedding_size` to the size of the embedding for the encoder.\n",
    "- Set `decoding_embedding_size` to the size of the embedding for the decoder.\n",
    "- Set `learning_rate` to the learning rate.\n",
    "- Set `keep_probability` to the Dropout keep probability"
   ]
  },
  {
   "cell_type": "code",
   "execution_count": 22,
   "metadata": {
    "collapsed": true,
    "deletable": true,
    "editable": true
   },
   "outputs": [],
   "source": [
    "# Number of Epochs\n",
    "epochs = 15\n",
    "# Batch Size\n",
    "batch_size = 128\n",
    "# RNN Size\n",
    "rnn_size = 256\n",
    "# Number of Layers\n",
    "num_layers = 2\n",
    "# Embedding Size\n",
    "encoding_embedding_size = 32 # average words is approx. 12 * 4\n",
    "decoding_embedding_size = 32   \n",
    "# Learning Rate\n",
    "learning_rate = 0.001\n",
    "# Dropout Keep Probability\n",
    "keep_probability = 0.8"
   ]
  },
  {
   "cell_type": "markdown",
   "metadata": {
    "deletable": true,
    "editable": true
   },
   "source": [
    "### Build the Graph\n",
    "Build the graph using the neural network you implemented."
   ]
  },
  {
   "cell_type": "code",
   "execution_count": null,
   "metadata": {
    "collapsed": true,
    "deletable": true,
    "editable": true
   },
   "outputs": [],
   "source": [
    "\"\"\"\n",
    "DON'T MODIFY ANYTHING IN THIS CELL\n",
    "\"\"\"\n",
    "save_path = 'checkpoints/dev'\n",
    "(source_int_text, target_int_text), (source_vocab_to_int, target_vocab_to_int), _ = helper.load_preprocess()\n",
    "max_target_sentence_length = max([len(sentence) for sentence in source_int_text])\n",
    "\n",
    "train_graph = tf.Graph()\n",
    "with train_graph.as_default():\n",
    "    input_data, targets, lr, keep_prob = model_inputs()\n",
    "    sequence_length = tf.placeholder_with_default(max_target_sentence_length, None, name='sequence_length')\n",
    "    input_shape = tf.shape(input_data)\n",
    "    \n",
    "    train_logits, inference_logits = seq2seq_model(\n",
    "        tf.reverse(input_data, [-1]), targets, keep_prob, batch_size, sequence_length, len(source_vocab_to_int), len(target_vocab_to_int),\n",
    "        encoding_embedding_size, decoding_embedding_size, rnn_size, num_layers, target_vocab_to_int)\n",
    "\n",
    "    tf.identity(inference_logits, 'logits')\n",
    "    with tf.name_scope(\"optimization\"):\n",
    "        # Loss function\n",
    "        cost = tf.contrib.seq2seq.sequence_loss(\n",
    "            train_logits,\n",
    "            targets,\n",
    "            tf.ones([input_shape[0], sequence_length]))\n",
    "\n",
    "        # Optimizer\n",
    "        optimizer = tf.train.AdamOptimizer(lr)\n",
    "\n",
    "        # Gradient Clipping\n",
    "        gradients = optimizer.compute_gradients(cost)\n",
    "        capped_gradients = [(tf.clip_by_value(grad, -1., 1.), var) for grad, var in gradients if grad is not None]\n",
    "        train_op = optimizer.apply_gradients(capped_gradients)"
   ]
  },
  {
   "cell_type": "markdown",
   "metadata": {
    "deletable": true,
    "editable": true
   },
   "source": [
    "### Train\n",
    "Train the neural network on the preprocessed data. If you have a hard time getting a good loss, check the forms to see if anyone is having the same problem."
   ]
  },
  {
   "cell_type": "code",
   "execution_count": null,
   "metadata": {
    "collapsed": false,
    "deletable": true,
    "editable": true,
    "scrolled": true
   },
   "outputs": [
    {
     "name": "stdout",
     "output_type": "stream",
     "text": [
      "Epoch   0 Batch    0/1077 - Train Accuracy:  0.294, Validation Accuracy:  0.305, Loss:  5.870\n",
      "Epoch   0 Batch    1/1077 - Train Accuracy:  0.221, Validation Accuracy:  0.305, Loss:  5.672\n",
      "Epoch   0 Batch    2/1077 - Train Accuracy:  0.206, Validation Accuracy:  0.305, Loss:  5.410\n",
      "Epoch   0 Batch    3/1077 - Train Accuracy:  0.239, Validation Accuracy:  0.305, Loss:  4.878\n",
      "Epoch   0 Batch    4/1077 - Train Accuracy:  0.224, Validation Accuracy:  0.305, Loss:  4.823\n",
      "Epoch   0 Batch    5/1077 - Train Accuracy:  0.268, Validation Accuracy:  0.312, Loss:  4.604\n",
      "Epoch   0 Batch    6/1077 - Train Accuracy:  0.267, Validation Accuracy:  0.326, Loss:  4.445\n",
      "Epoch   0 Batch    7/1077 - Train Accuracy:  0.260, Validation Accuracy:  0.336, Loss:  4.425\n",
      "Epoch   0 Batch    8/1077 - Train Accuracy:  0.269, Validation Accuracy:  0.337, Loss:  4.310\n",
      "Epoch   0 Batch    9/1077 - Train Accuracy:  0.274, Validation Accuracy:  0.337, Loss:  4.222\n",
      "Epoch   0 Batch   10/1077 - Train Accuracy:  0.240, Validation Accuracy:  0.337, Loss:  4.248\n",
      "Epoch   0 Batch   11/1077 - Train Accuracy:  0.295, Validation Accuracy:  0.337, Loss:  4.050\n",
      "Epoch   0 Batch   12/1077 - Train Accuracy:  0.280, Validation Accuracy:  0.348, Loss:  4.068\n",
      "Epoch   0 Batch   13/1077 - Train Accuracy:  0.327, Validation Accuracy:  0.348, Loss:  3.861\n",
      "Epoch   0 Batch   14/1077 - Train Accuracy:  0.320, Validation Accuracy:  0.358, Loss:  3.847\n",
      "Epoch   0 Batch   15/1077 - Train Accuracy:  0.291, Validation Accuracy:  0.362, Loss:  3.940\n",
      "Epoch   0 Batch   16/1077 - Train Accuracy:  0.322, Validation Accuracy:  0.369, Loss:  3.948\n",
      "Epoch   0 Batch   17/1077 - Train Accuracy:  0.327, Validation Accuracy:  0.372, Loss:  3.850\n",
      "Epoch   0 Batch   18/1077 - Train Accuracy:  0.304, Validation Accuracy:  0.372, Loss:  3.881\n",
      "Epoch   0 Batch   19/1077 - Train Accuracy:  0.329, Validation Accuracy:  0.372, Loss:  3.796\n",
      "Epoch   0 Batch   20/1077 - Train Accuracy:  0.307, Validation Accuracy:  0.373, Loss:  3.768\n",
      "Epoch   0 Batch   21/1077 - Train Accuracy:  0.292, Validation Accuracy:  0.372, Loss:  3.824\n",
      "Epoch   0 Batch   22/1077 - Train Accuracy:  0.314, Validation Accuracy:  0.381, Loss:  3.816\n",
      "Epoch   0 Batch   23/1077 - Train Accuracy:  0.317, Validation Accuracy:  0.384, Loss:  3.789\n",
      "Epoch   0 Batch   24/1077 - Train Accuracy:  0.323, Validation Accuracy:  0.384, Loss:  3.682\n",
      "Epoch   0 Batch   25/1077 - Train Accuracy:  0.309, Validation Accuracy:  0.384, Loss:  3.757\n",
      "Epoch   0 Batch   26/1077 - Train Accuracy:  0.321, Validation Accuracy:  0.388, Loss:  3.698\n",
      "Epoch   0 Batch   27/1077 - Train Accuracy:  0.360, Validation Accuracy:  0.389, Loss:  3.574\n",
      "Epoch   0 Batch   28/1077 - Train Accuracy:  0.340, Validation Accuracy:  0.392, Loss:  3.684\n",
      "Epoch   0 Batch   29/1077 - Train Accuracy:  0.337, Validation Accuracy:  0.389, Loss:  3.637\n",
      "Epoch   0 Batch   30/1077 - Train Accuracy:  0.323, Validation Accuracy:  0.390, Loss:  3.693\n",
      "Epoch   0 Batch   31/1077 - Train Accuracy:  0.323, Validation Accuracy:  0.389, Loss:  3.712\n",
      "Epoch   0 Batch   32/1077 - Train Accuracy:  0.378, Validation Accuracy:  0.383, Loss:  3.501\n",
      "Epoch   0 Batch   33/1077 - Train Accuracy:  0.350, Validation Accuracy:  0.382, Loss:  3.573\n",
      "Epoch   0 Batch   34/1077 - Train Accuracy:  0.333, Validation Accuracy:  0.389, Loss:  3.611\n",
      "Epoch   0 Batch   35/1077 - Train Accuracy:  0.325, Validation Accuracy:  0.376, Loss:  3.622\n",
      "Epoch   0 Batch   36/1077 - Train Accuracy:  0.336, Validation Accuracy:  0.388, Loss:  3.608\n",
      "Epoch   0 Batch   37/1077 - Train Accuracy:  0.330, Validation Accuracy:  0.392, Loss:  3.597\n",
      "Epoch   0 Batch   38/1077 - Train Accuracy:  0.310, Validation Accuracy:  0.395, Loss:  3.724\n",
      "Epoch   0 Batch   39/1077 - Train Accuracy:  0.343, Validation Accuracy:  0.403, Loss:  3.549\n",
      "Epoch   0 Batch   40/1077 - Train Accuracy:  0.347, Validation Accuracy:  0.411, Loss:  3.521\n",
      "Epoch   0 Batch   41/1077 - Train Accuracy:  0.375, Validation Accuracy:  0.407, Loss:  3.466\n",
      "Epoch   0 Batch   42/1077 - Train Accuracy:  0.359, Validation Accuracy:  0.413, Loss:  3.427\n",
      "Epoch   0 Batch   43/1077 - Train Accuracy:  0.329, Validation Accuracy:  0.414, Loss:  3.465\n",
      "Epoch   0 Batch   44/1077 - Train Accuracy:  0.333, Validation Accuracy:  0.429, Loss:  3.583\n",
      "Epoch   0 Batch   45/1077 - Train Accuracy:  0.356, Validation Accuracy:  0.425, Loss:  3.433\n",
      "Epoch   0 Batch   46/1077 - Train Accuracy:  0.347, Validation Accuracy:  0.419, Loss:  3.491\n",
      "Epoch   0 Batch   47/1077 - Train Accuracy:  0.348, Validation Accuracy:  0.398, Loss:  3.357\n",
      "Epoch   0 Batch   48/1077 - Train Accuracy:  0.368, Validation Accuracy:  0.411, Loss:  3.422\n",
      "Epoch   0 Batch   49/1077 - Train Accuracy:  0.376, Validation Accuracy:  0.428, Loss:  3.434\n",
      "Epoch   0 Batch   50/1077 - Train Accuracy:  0.374, Validation Accuracy:  0.434, Loss:  3.434\n",
      "Epoch   0 Batch   51/1077 - Train Accuracy:  0.383, Validation Accuracy:  0.423, Loss:  3.383\n",
      "Epoch   0 Batch   52/1077 - Train Accuracy:  0.385, Validation Accuracy:  0.448, Loss:  3.424\n",
      "Epoch   0 Batch   53/1077 - Train Accuracy:  0.357, Validation Accuracy:  0.419, Loss:  3.395\n",
      "Epoch   0 Batch   54/1077 - Train Accuracy:  0.353, Validation Accuracy:  0.443, Loss:  3.502\n",
      "Epoch   0 Batch   55/1077 - Train Accuracy:  0.412, Validation Accuracy:  0.460, Loss:  3.234\n",
      "Epoch   0 Batch   56/1077 - Train Accuracy:  0.399, Validation Accuracy:  0.434, Loss:  3.313\n",
      "Epoch   0 Batch   57/1077 - Train Accuracy:  0.456, Validation Accuracy:  0.455, Loss:  3.162\n",
      "Epoch   0 Batch   58/1077 - Train Accuracy:  0.401, Validation Accuracy:  0.461, Loss:  3.258\n",
      "Epoch   0 Batch   59/1077 - Train Accuracy:  0.352, Validation Accuracy:  0.451, Loss:  3.423\n",
      "Epoch   0 Batch   60/1077 - Train Accuracy:  0.425, Validation Accuracy:  0.458, Loss:  3.228\n",
      "Epoch   0 Batch   61/1077 - Train Accuracy:  0.402, Validation Accuracy:  0.456, Loss:  3.207\n",
      "Epoch   0 Batch   62/1077 - Train Accuracy:  0.377, Validation Accuracy:  0.452, Loss:  3.383\n",
      "Epoch   0 Batch   63/1077 - Train Accuracy:  0.440, Validation Accuracy:  0.466, Loss:  3.204\n",
      "Epoch   0 Batch   64/1077 - Train Accuracy:  0.389, Validation Accuracy:  0.465, Loss:  3.215\n",
      "Epoch   0 Batch   65/1077 - Train Accuracy:  0.382, Validation Accuracy:  0.471, Loss:  3.330\n",
      "Epoch   0 Batch   66/1077 - Train Accuracy:  0.401, Validation Accuracy:  0.448, Loss:  3.193\n",
      "Epoch   0 Batch   67/1077 - Train Accuracy:  0.437, Validation Accuracy:  0.457, Loss:  3.134\n",
      "Epoch   0 Batch   68/1077 - Train Accuracy:  0.393, Validation Accuracy:  0.472, Loss:  3.187\n",
      "Epoch   0 Batch   69/1077 - Train Accuracy:  0.421, Validation Accuracy:  0.458, Loss:  3.129\n",
      "Epoch   0 Batch   70/1077 - Train Accuracy:  0.377, Validation Accuracy:  0.464, Loss:  3.236\n",
      "Epoch   0 Batch   71/1077 - Train Accuracy:  0.417, Validation Accuracy:  0.474, Loss:  3.186\n",
      "Epoch   0 Batch   72/1077 - Train Accuracy:  0.409, Validation Accuracy:  0.464, Loss:  3.170\n",
      "Epoch   0 Batch   73/1077 - Train Accuracy:  0.406, Validation Accuracy:  0.477, Loss:  3.134\n",
      "Epoch   0 Batch   74/1077 - Train Accuracy:  0.432, Validation Accuracy:  0.483, Loss:  3.091\n",
      "Epoch   0 Batch   75/1077 - Train Accuracy:  0.456, Validation Accuracy:  0.483, Loss:  3.046\n",
      "Epoch   0 Batch   76/1077 - Train Accuracy:  0.425, Validation Accuracy:  0.476, Loss:  3.085\n",
      "Epoch   0 Batch   77/1077 - Train Accuracy:  0.389, Validation Accuracy:  0.456, Loss:  3.110\n",
      "Epoch   0 Batch   78/1077 - Train Accuracy:  0.387, Validation Accuracy:  0.476, Loss:  3.259\n",
      "Epoch   0 Batch   79/1077 - Train Accuracy:  0.416, Validation Accuracy:  0.479, Loss:  3.118\n",
      "Epoch   0 Batch   80/1077 - Train Accuracy:  0.420, Validation Accuracy:  0.481, Loss:  3.093\n",
      "Epoch   0 Batch   81/1077 - Train Accuracy:  0.430, Validation Accuracy:  0.475, Loss:  3.046\n",
      "Epoch   0 Batch   82/1077 - Train Accuracy:  0.464, Validation Accuracy:  0.470, Loss:  2.904\n",
      "Epoch   0 Batch   83/1077 - Train Accuracy:  0.411, Validation Accuracy:  0.488, Loss:  3.126\n",
      "Epoch   0 Batch   84/1077 - Train Accuracy:  0.436, Validation Accuracy:  0.485, Loss:  3.086\n",
      "Epoch   0 Batch   85/1077 - Train Accuracy:  0.436, Validation Accuracy:  0.480, Loss:  2.992\n",
      "Epoch   0 Batch   86/1077 - Train Accuracy:  0.414, Validation Accuracy:  0.480, Loss:  3.012\n",
      "Epoch   0 Batch   87/1077 - Train Accuracy:  0.434, Validation Accuracy:  0.484, Loss:  3.005\n",
      "Epoch   0 Batch   88/1077 - Train Accuracy:  0.432, Validation Accuracy:  0.479, Loss:  3.036\n",
      "Epoch   0 Batch   89/1077 - Train Accuracy:  0.428, Validation Accuracy:  0.481, Loss:  3.011\n",
      "Epoch   0 Batch   90/1077 - Train Accuracy:  0.415, Validation Accuracy:  0.477, Loss:  3.061\n",
      "Epoch   0 Batch   91/1077 - Train Accuracy:  0.475, Validation Accuracy:  0.485, Loss:  2.864\n",
      "Epoch   0 Batch   92/1077 - Train Accuracy:  0.446, Validation Accuracy:  0.484, Loss:  2.970\n",
      "Epoch   0 Batch   93/1077 - Train Accuracy:  0.423, Validation Accuracy:  0.477, Loss:  3.051\n",
      "Epoch   0 Batch   94/1077 - Train Accuracy:  0.444, Validation Accuracy:  0.483, Loss:  2.906\n",
      "Epoch   0 Batch   95/1077 - Train Accuracy:  0.465, Validation Accuracy:  0.485, Loss:  2.916\n",
      "Epoch   0 Batch   96/1077 - Train Accuracy:  0.421, Validation Accuracy:  0.473, Loss:  2.948\n",
      "Epoch   0 Batch   97/1077 - Train Accuracy:  0.446, Validation Accuracy:  0.487, Loss:  2.973\n",
      "Epoch   0 Batch   98/1077 - Train Accuracy:  0.463, Validation Accuracy:  0.480, Loss:  2.813\n",
      "Epoch   0 Batch   99/1077 - Train Accuracy:  0.410, Validation Accuracy:  0.483, Loss:  3.020\n",
      "Epoch   0 Batch  100/1077 - Train Accuracy:  0.441, Validation Accuracy:  0.488, Loss:  2.982\n",
      "Epoch   0 Batch  101/1077 - Train Accuracy:  0.445, Validation Accuracy:  0.480, Loss:  2.944\n",
      "Epoch   0 Batch  102/1077 - Train Accuracy:  0.445, Validation Accuracy:  0.478, Loss:  2.853\n",
      "Epoch   0 Batch  103/1077 - Train Accuracy:  0.389, Validation Accuracy:  0.482, Loss:  3.046\n",
      "Epoch   0 Batch  104/1077 - Train Accuracy:  0.336, Validation Accuracy:  0.441, Loss:  3.074\n",
      "Epoch   0 Batch  105/1077 - Train Accuracy:  0.434, Validation Accuracy:  0.476, Loss:  3.038\n",
      "Epoch   0 Batch  106/1077 - Train Accuracy:  0.387, Validation Accuracy:  0.452, Loss:  3.000\n",
      "Epoch   0 Batch  107/1077 - Train Accuracy:  0.450, Validation Accuracy:  0.491, Loss:  2.952\n",
      "Epoch   0 Batch  108/1077 - Train Accuracy:  0.445, Validation Accuracy:  0.448, Loss:  2.766\n",
      "Epoch   0 Batch  109/1077 - Train Accuracy:  0.436, Validation Accuracy:  0.480, Loss:  3.040\n",
      "Epoch   0 Batch  110/1077 - Train Accuracy:  0.422, Validation Accuracy:  0.461, Loss:  2.875\n",
      "Epoch   0 Batch  111/1077 - Train Accuracy:  0.403, Validation Accuracy:  0.468, Loss:  2.974\n",
      "Epoch   0 Batch  112/1077 - Train Accuracy:  0.436, Validation Accuracy:  0.485, Loss:  3.006\n",
      "Epoch   0 Batch  113/1077 - Train Accuracy:  0.400, Validation Accuracy:  0.456, Loss:  2.959\n",
      "Epoch   0 Batch  114/1077 - Train Accuracy:  0.442, Validation Accuracy:  0.483, Loss:  2.961\n",
      "Epoch   0 Batch  115/1077 - Train Accuracy:  0.420, Validation Accuracy:  0.480, Loss:  2.970\n",
      "Epoch   0 Batch  116/1077 - Train Accuracy:  0.389, Validation Accuracy:  0.471, Loss:  2.998\n",
      "Epoch   0 Batch  117/1077 - Train Accuracy:  0.403, Validation Accuracy:  0.483, Loss:  2.963\n",
      "Epoch   0 Batch  118/1077 - Train Accuracy:  0.373, Validation Accuracy:  0.464, Loss:  2.997\n",
      "Epoch   0 Batch  119/1077 - Train Accuracy:  0.416, Validation Accuracy:  0.478, Loss:  2.956\n",
      "Epoch   0 Batch  120/1077 - Train Accuracy:  0.417, Validation Accuracy:  0.482, Loss:  2.962\n",
      "Epoch   0 Batch  121/1077 - Train Accuracy:  0.398, Validation Accuracy:  0.462, Loss:  2.828\n",
      "Epoch   0 Batch  122/1077 - Train Accuracy:  0.433, Validation Accuracy:  0.492, Loss:  2.973\n",
      "Epoch   0 Batch  123/1077 - Train Accuracy:  0.446, Validation Accuracy:  0.482, Loss:  2.813\n",
      "Epoch   0 Batch  124/1077 - Train Accuracy:  0.423, Validation Accuracy:  0.474, Loss:  2.855\n",
      "Epoch   0 Batch  125/1077 - Train Accuracy:  0.455, Validation Accuracy:  0.494, Loss:  2.863\n",
      "Epoch   0 Batch  126/1077 - Train Accuracy:  0.429, Validation Accuracy:  0.478, Loss:  2.757\n",
      "Epoch   0 Batch  127/1077 - Train Accuracy:  0.423, Validation Accuracy:  0.468, Loss:  2.807\n",
      "Epoch   0 Batch  128/1077 - Train Accuracy:  0.478, Validation Accuracy:  0.492, Loss:  2.764\n",
      "Epoch   0 Batch  129/1077 - Train Accuracy:  0.441, Validation Accuracy:  0.485, Loss:  2.823\n",
      "Epoch   0 Batch  130/1077 - Train Accuracy:  0.452, Validation Accuracy:  0.487, Loss:  2.703\n",
      "Epoch   0 Batch  131/1077 - Train Accuracy:  0.441, Validation Accuracy:  0.496, Loss:  2.855\n",
      "Epoch   0 Batch  132/1077 - Train Accuracy:  0.410, Validation Accuracy:  0.494, Loss:  2.900\n",
      "Epoch   0 Batch  133/1077 - Train Accuracy:  0.414, Validation Accuracy:  0.498, Loss:  2.856\n",
      "Epoch   0 Batch  134/1077 - Train Accuracy:  0.461, Validation Accuracy:  0.504, Loss:  2.755\n",
      "Epoch   0 Batch  135/1077 - Train Accuracy:  0.440, Validation Accuracy:  0.497, Loss:  2.844\n",
      "Epoch   0 Batch  136/1077 - Train Accuracy:  0.449, Validation Accuracy:  0.506, Loss:  2.787\n",
      "Epoch   0 Batch  137/1077 - Train Accuracy:  0.451, Validation Accuracy:  0.479, Loss:  2.579\n",
      "Epoch   0 Batch  138/1077 - Train Accuracy:  0.430, Validation Accuracy:  0.491, Loss:  2.789\n",
      "Epoch   0 Batch  139/1077 - Train Accuracy:  0.452, Validation Accuracy:  0.501, Loss:  2.789\n",
      "Epoch   0 Batch  140/1077 - Train Accuracy:  0.409, Validation Accuracy:  0.500, Loss:  2.928\n",
      "Epoch   0 Batch  141/1077 - Train Accuracy:  0.422, Validation Accuracy:  0.498, Loss:  2.819\n",
      "Epoch   0 Batch  142/1077 - Train Accuracy:  0.451, Validation Accuracy:  0.495, Loss:  2.613\n",
      "Epoch   0 Batch  143/1077 - Train Accuracy:  0.453, Validation Accuracy:  0.498, Loss:  2.737\n",
      "Epoch   0 Batch  144/1077 - Train Accuracy:  0.409, Validation Accuracy:  0.495, Loss:  2.798\n",
      "Epoch   0 Batch  145/1077 - Train Accuracy:  0.458, Validation Accuracy:  0.494, Loss:  2.666\n",
      "Epoch   0 Batch  146/1077 - Train Accuracy:  0.461, Validation Accuracy:  0.500, Loss:  2.652\n",
      "Epoch   0 Batch  147/1077 - Train Accuracy:  0.420, Validation Accuracy:  0.496, Loss:  2.713\n",
      "Epoch   0 Batch  148/1077 - Train Accuracy:  0.448, Validation Accuracy:  0.499, Loss:  2.705\n",
      "Epoch   0 Batch  149/1077 - Train Accuracy:  0.416, Validation Accuracy:  0.495, Loss:  2.744\n",
      "Epoch   0 Batch  150/1077 - Train Accuracy:  0.451, Validation Accuracy:  0.489, Loss:  2.602\n",
      "Epoch   0 Batch  151/1077 - Train Accuracy:  0.450, Validation Accuracy:  0.490, Loss:  2.696\n",
      "Epoch   0 Batch  152/1077 - Train Accuracy:  0.445, Validation Accuracy:  0.496, Loss:  2.664\n",
      "Epoch   0 Batch  153/1077 - Train Accuracy:  0.420, Validation Accuracy:  0.490, Loss:  2.708\n",
      "Epoch   0 Batch  154/1077 - Train Accuracy:  0.405, Validation Accuracy:  0.499, Loss:  2.817\n",
      "Epoch   0 Batch  155/1077 - Train Accuracy:  0.446, Validation Accuracy:  0.491, Loss:  2.656\n",
      "Epoch   0 Batch  156/1077 - Train Accuracy:  0.421, Validation Accuracy:  0.491, Loss:  2.613\n",
      "Epoch   0 Batch  157/1077 - Train Accuracy:  0.440, Validation Accuracy:  0.504, Loss:  2.674\n",
      "Epoch   0 Batch  158/1077 - Train Accuracy:  0.461, Validation Accuracy:  0.504, Loss:  2.654\n",
      "Epoch   0 Batch  159/1077 - Train Accuracy:  0.427, Validation Accuracy:  0.473, Loss:  2.558\n",
      "Epoch   0 Batch  160/1077 - Train Accuracy:  0.445, Validation Accuracy:  0.498, Loss:  2.688\n",
      "Epoch   0 Batch  161/1077 - Train Accuracy:  0.448, Validation Accuracy:  0.507, Loss:  2.661\n",
      "Epoch   0 Batch  162/1077 - Train Accuracy:  0.423, Validation Accuracy:  0.489, Loss:  2.672\n",
      "Epoch   0 Batch  163/1077 - Train Accuracy:  0.399, Validation Accuracy:  0.487, Loss:  2.718\n",
      "Epoch   0 Batch  164/1077 - Train Accuracy:  0.448, Validation Accuracy:  0.488, Loss:  2.626\n",
      "Epoch   0 Batch  165/1077 - Train Accuracy:  0.417, Validation Accuracy:  0.496, Loss:  2.657\n",
      "Epoch   0 Batch  166/1077 - Train Accuracy:  0.444, Validation Accuracy:  0.459, Loss:  2.508\n",
      "Epoch   0 Batch  167/1077 - Train Accuracy:  0.423, Validation Accuracy:  0.494, Loss:  2.739\n",
      "Epoch   0 Batch  168/1077 - Train Accuracy:  0.428, Validation Accuracy:  0.504, Loss:  2.700\n",
      "Epoch   0 Batch  169/1077 - Train Accuracy:  0.489, Validation Accuracy:  0.512, Loss:  2.503\n",
      "Epoch   0 Batch  170/1077 - Train Accuracy:  0.371, Validation Accuracy:  0.479, Loss:  2.664\n",
      "Epoch   0 Batch  171/1077 - Train Accuracy:  0.463, Validation Accuracy:  0.497, Loss:  2.504\n",
      "Epoch   0 Batch  172/1077 - Train Accuracy:  0.461, Validation Accuracy:  0.509, Loss:  2.553\n",
      "Epoch   0 Batch  173/1077 - Train Accuracy:  0.409, Validation Accuracy:  0.496, Loss:  2.795\n",
      "Epoch   0 Batch  174/1077 - Train Accuracy:  0.436, Validation Accuracy:  0.486, Loss:  2.571\n",
      "Epoch   0 Batch  175/1077 - Train Accuracy:  0.457, Validation Accuracy:  0.499, Loss:  2.530\n",
      "Epoch   0 Batch  176/1077 - Train Accuracy:  0.434, Validation Accuracy:  0.499, Loss:  2.526\n",
      "Epoch   0 Batch  177/1077 - Train Accuracy:  0.404, Validation Accuracy:  0.504, Loss:  2.730\n",
      "Epoch   0 Batch  178/1077 - Train Accuracy:  0.424, Validation Accuracy:  0.479, Loss:  2.475\n",
      "Epoch   0 Batch  179/1077 - Train Accuracy:  0.429, Validation Accuracy:  0.491, Loss:  2.626\n",
      "Epoch   0 Batch  180/1077 - Train Accuracy:  0.454, Validation Accuracy:  0.501, Loss:  2.515\n",
      "Epoch   0 Batch  181/1077 - Train Accuracy:  0.450, Validation Accuracy:  0.491, Loss:  2.547\n",
      "Epoch   0 Batch  182/1077 - Train Accuracy:  0.418, Validation Accuracy:  0.474, Loss:  2.495\n",
      "Epoch   0 Batch  183/1077 - Train Accuracy:  0.405, Validation Accuracy:  0.493, Loss:  2.611\n",
      "Epoch   0 Batch  184/1077 - Train Accuracy:  0.476, Validation Accuracy:  0.507, Loss:  2.487\n",
      "Epoch   0 Batch  185/1077 - Train Accuracy:  0.436, Validation Accuracy:  0.498, Loss:  2.523\n",
      "Epoch   0 Batch  186/1077 - Train Accuracy:  0.411, Validation Accuracy:  0.481, Loss:  2.586\n",
      "Epoch   0 Batch  187/1077 - Train Accuracy:  0.418, Validation Accuracy:  0.475, Loss:  2.544\n",
      "Epoch   0 Batch  188/1077 - Train Accuracy:  0.456, Validation Accuracy:  0.511, Loss:  2.451\n",
      "Epoch   0 Batch  189/1077 - Train Accuracy:  0.420, Validation Accuracy:  0.491, Loss:  2.553\n",
      "Epoch   0 Batch  190/1077 - Train Accuracy:  0.428, Validation Accuracy:  0.482, Loss:  2.549\n",
      "Epoch   0 Batch  191/1077 - Train Accuracy:  0.464, Validation Accuracy:  0.483, Loss:  2.372\n",
      "Epoch   0 Batch  192/1077 - Train Accuracy:  0.469, Validation Accuracy:  0.504, Loss:  2.524\n",
      "Epoch   0 Batch  193/1077 - Train Accuracy:  0.462, Validation Accuracy:  0.494, Loss:  2.561\n",
      "Epoch   0 Batch  194/1077 - Train Accuracy:  0.442, Validation Accuracy:  0.486, Loss:  2.380\n",
      "Epoch   0 Batch  195/1077 - Train Accuracy:  0.403, Validation Accuracy:  0.488, Loss:  2.447\n",
      "Epoch   0 Batch  196/1077 - Train Accuracy:  0.458, Validation Accuracy:  0.502, Loss:  2.403\n",
      "Epoch   0 Batch  197/1077 - Train Accuracy:  0.451, Validation Accuracy:  0.499, Loss:  2.472\n",
      "Epoch   0 Batch  198/1077 - Train Accuracy:  0.467, Validation Accuracy:  0.499, Loss:  2.338\n",
      "Epoch   0 Batch  199/1077 - Train Accuracy:  0.434, Validation Accuracy:  0.485, Loss:  2.456\n",
      "Epoch   0 Batch  200/1077 - Train Accuracy:  0.427, Validation Accuracy:  0.489, Loss:  2.501\n",
      "Epoch   0 Batch  201/1077 - Train Accuracy:  0.472, Validation Accuracy:  0.499, Loss:  2.312\n",
      "Epoch   0 Batch  202/1077 - Train Accuracy:  0.429, Validation Accuracy:  0.470, Loss:  2.509\n",
      "Epoch   0 Batch  203/1077 - Train Accuracy:  0.449, Validation Accuracy:  0.471, Loss:  2.390\n",
      "Epoch   0 Batch  204/1077 - Train Accuracy:  0.429, Validation Accuracy:  0.490, Loss:  2.362\n",
      "Epoch   0 Batch  205/1077 - Train Accuracy:  0.453, Validation Accuracy:  0.494, Loss:  2.464\n",
      "Epoch   0 Batch  206/1077 - Train Accuracy:  0.432, Validation Accuracy:  0.485, Loss:  2.455\n",
      "Epoch   0 Batch  207/1077 - Train Accuracy:  0.400, Validation Accuracy:  0.463, Loss:  2.473\n",
      "Epoch   0 Batch  208/1077 - Train Accuracy:  0.476, Validation Accuracy:  0.491, Loss:  2.427\n",
      "Epoch   0 Batch  209/1077 - Train Accuracy:  0.469, Validation Accuracy:  0.487, Loss:  2.282\n",
      "Epoch   0 Batch  210/1077 - Train Accuracy:  0.445, Validation Accuracy:  0.474, Loss:  2.433\n",
      "Epoch   0 Batch  211/1077 - Train Accuracy:  0.429, Validation Accuracy:  0.479, Loss:  2.410\n",
      "Epoch   0 Batch  212/1077 - Train Accuracy:  0.464, Validation Accuracy:  0.490, Loss:  2.330\n",
      "Epoch   0 Batch  213/1077 - Train Accuracy:  0.432, Validation Accuracy:  0.476, Loss:  2.351\n",
      "Epoch   0 Batch  214/1077 - Train Accuracy:  0.409, Validation Accuracy:  0.482, Loss:  2.347\n",
      "Epoch   0 Batch  215/1077 - Train Accuracy:  0.432, Validation Accuracy:  0.499, Loss:  2.387\n",
      "Epoch   0 Batch  216/1077 - Train Accuracy:  0.440, Validation Accuracy:  0.505, Loss:  2.346\n",
      "Epoch   0 Batch  217/1077 - Train Accuracy:  0.479, Validation Accuracy:  0.500, Loss:  2.286\n",
      "Epoch   0 Batch  218/1077 - Train Accuracy:  0.420, Validation Accuracy:  0.486, Loss:  2.403\n",
      "Epoch   0 Batch  219/1077 - Train Accuracy:  0.436, Validation Accuracy:  0.478, Loss:  2.387\n",
      "Epoch   0 Batch  220/1077 - Train Accuracy:  0.426, Validation Accuracy:  0.498, Loss:  2.406\n",
      "Epoch   0 Batch  221/1077 - Train Accuracy:  0.412, Validation Accuracy:  0.466, Loss:  2.426\n",
      "Epoch   0 Batch  222/1077 - Train Accuracy:  0.416, Validation Accuracy:  0.508, Loss:  2.477\n",
      "Epoch   0 Batch  223/1077 - Train Accuracy:  0.491, Validation Accuracy:  0.492, Loss:  2.278\n",
      "Epoch   0 Batch  224/1077 - Train Accuracy:  0.444, Validation Accuracy:  0.475, Loss:  2.371\n",
      "Epoch   0 Batch  225/1077 - Train Accuracy:  0.412, Validation Accuracy:  0.478, Loss:  2.356\n",
      "Epoch   0 Batch  226/1077 - Train Accuracy:  0.460, Validation Accuracy:  0.496, Loss:  2.316\n",
      "Epoch   0 Batch  227/1077 - Train Accuracy:  0.440, Validation Accuracy:  0.504, Loss:  2.404\n",
      "Epoch   0 Batch  228/1077 - Train Accuracy:  0.454, Validation Accuracy:  0.483, Loss:  2.339\n",
      "Epoch   0 Batch  229/1077 - Train Accuracy:  0.458, Validation Accuracy:  0.482, Loss:  2.314\n",
      "Epoch   0 Batch  230/1077 - Train Accuracy:  0.464, Validation Accuracy:  0.486, Loss:  2.256\n",
      "Epoch   0 Batch  231/1077 - Train Accuracy:  0.446, Validation Accuracy:  0.477, Loss:  2.289\n",
      "Epoch   0 Batch  232/1077 - Train Accuracy:  0.424, Validation Accuracy:  0.489, Loss:  2.314\n",
      "Epoch   0 Batch  233/1077 - Train Accuracy:  0.441, Validation Accuracy:  0.489, Loss:  2.376\n",
      "Epoch   0 Batch  234/1077 - Train Accuracy:  0.459, Validation Accuracy:  0.495, Loss:  2.269\n",
      "Epoch   0 Batch  235/1077 - Train Accuracy:  0.485, Validation Accuracy:  0.484, Loss:  2.190\n",
      "Epoch   0 Batch  236/1077 - Train Accuracy:  0.412, Validation Accuracy:  0.482, Loss:  2.339\n",
      "Epoch   0 Batch  237/1077 - Train Accuracy:  0.460, Validation Accuracy:  0.483, Loss:  2.160\n",
      "Epoch   0 Batch  238/1077 - Train Accuracy:  0.466, Validation Accuracy:  0.502, Loss:  2.333\n",
      "Epoch   0 Batch  239/1077 - Train Accuracy:  0.460, Validation Accuracy:  0.493, Loss:  2.225\n",
      "Epoch   0 Batch  240/1077 - Train Accuracy:  0.463, Validation Accuracy:  0.500, Loss:  2.264\n",
      "Epoch   0 Batch  241/1077 - Train Accuracy:  0.464, Validation Accuracy:  0.498, Loss:  2.187\n",
      "Epoch   0 Batch  242/1077 - Train Accuracy:  0.428, Validation Accuracy:  0.482, Loss:  2.300\n",
      "Epoch   0 Batch  243/1077 - Train Accuracy:  0.404, Validation Accuracy:  0.480, Loss:  2.237\n",
      "Epoch   0 Batch  244/1077 - Train Accuracy:  0.468, Validation Accuracy:  0.476, Loss:  2.172\n",
      "Epoch   0 Batch  245/1077 - Train Accuracy:  0.455, Validation Accuracy:  0.485, Loss:  2.123\n",
      "Epoch   0 Batch  246/1077 - Train Accuracy:  0.416, Validation Accuracy:  0.474, Loss:  2.252\n",
      "Epoch   0 Batch  247/1077 - Train Accuracy:  0.472, Validation Accuracy:  0.478, Loss:  2.151\n",
      "Epoch   0 Batch  248/1077 - Train Accuracy:  0.456, Validation Accuracy:  0.476, Loss:  2.139\n",
      "Epoch   0 Batch  249/1077 - Train Accuracy:  0.422, Validation Accuracy:  0.473, Loss:  2.186\n",
      "Epoch   0 Batch  250/1077 - Train Accuracy:  0.448, Validation Accuracy:  0.469, Loss:  2.114\n",
      "Epoch   0 Batch  251/1077 - Train Accuracy:  0.443, Validation Accuracy:  0.485, Loss:  2.239\n",
      "Epoch   0 Batch  252/1077 - Train Accuracy:  0.471, Validation Accuracy:  0.474, Loss:  2.173\n",
      "Epoch   0 Batch  253/1077 - Train Accuracy:  0.474, Validation Accuracy:  0.464, Loss:  2.139\n",
      "Epoch   0 Batch  254/1077 - Train Accuracy:  0.422, Validation Accuracy:  0.472, Loss:  2.253\n",
      "Epoch   0 Batch  255/1077 - Train Accuracy:  0.433, Validation Accuracy:  0.477, Loss:  2.265\n",
      "Epoch   0 Batch  256/1077 - Train Accuracy:  0.421, Validation Accuracy:  0.462, Loss:  2.197\n",
      "Epoch   0 Batch  257/1077 - Train Accuracy:  0.463, Validation Accuracy:  0.475, Loss:  2.152\n",
      "Epoch   0 Batch  258/1077 - Train Accuracy:  0.474, Validation Accuracy:  0.468, Loss:  2.120\n",
      "Epoch   0 Batch  259/1077 - Train Accuracy:  0.443, Validation Accuracy:  0.473, Loss:  2.243\n",
      "Epoch   0 Batch  260/1077 - Train Accuracy:  0.456, Validation Accuracy:  0.478, Loss:  2.093\n",
      "Epoch   0 Batch  261/1077 - Train Accuracy:  0.469, Validation Accuracy:  0.486, Loss:  2.110\n",
      "Epoch   0 Batch  262/1077 - Train Accuracy:  0.433, Validation Accuracy:  0.482, Loss:  2.169\n",
      "Epoch   0 Batch  263/1077 - Train Accuracy:  0.447, Validation Accuracy:  0.476, Loss:  2.174\n",
      "Epoch   0 Batch  264/1077 - Train Accuracy:  0.423, Validation Accuracy:  0.483, Loss:  2.124\n",
      "Epoch   0 Batch  265/1077 - Train Accuracy:  0.445, Validation Accuracy:  0.484, Loss:  2.166\n",
      "Epoch   0 Batch  266/1077 - Train Accuracy:  0.449, Validation Accuracy:  0.499, Loss:  2.058\n",
      "Epoch   0 Batch  267/1077 - Train Accuracy:  0.438, Validation Accuracy:  0.462, Loss:  2.050\n",
      "Epoch   0 Batch  268/1077 - Train Accuracy:  0.429, Validation Accuracy:  0.469, Loss:  2.158\n",
      "Epoch   0 Batch  269/1077 - Train Accuracy:  0.411, Validation Accuracy:  0.457, Loss:  2.203\n",
      "Epoch   0 Batch  270/1077 - Train Accuracy:  0.384, Validation Accuracy:  0.457, Loss:  2.256\n",
      "Epoch   0 Batch  271/1077 - Train Accuracy:  0.411, Validation Accuracy:  0.447, Loss:  2.152\n",
      "Epoch   0 Batch  272/1077 - Train Accuracy:  0.430, Validation Accuracy:  0.472, Loss:  2.115\n",
      "Epoch   0 Batch  273/1077 - Train Accuracy:  0.429, Validation Accuracy:  0.456, Loss:  2.037\n",
      "Epoch   0 Batch  274/1077 - Train Accuracy:  0.423, Validation Accuracy:  0.465, Loss:  2.103\n",
      "Epoch   0 Batch  275/1077 - Train Accuracy:  0.439, Validation Accuracy:  0.463, Loss:  2.067\n",
      "Epoch   0 Batch  276/1077 - Train Accuracy:  0.385, Validation Accuracy:  0.462, Loss:  2.165\n",
      "Epoch   0 Batch  277/1077 - Train Accuracy:  0.456, Validation Accuracy:  0.469, Loss:  2.103\n",
      "Epoch   0 Batch  278/1077 - Train Accuracy:  0.399, Validation Accuracy:  0.489, Loss:  2.184\n",
      "Epoch   0 Batch  279/1077 - Train Accuracy:  0.391, Validation Accuracy:  0.467, Loss:  2.175\n",
      "Epoch   0 Batch  280/1077 - Train Accuracy:  0.416, Validation Accuracy:  0.487, Loss:  2.139\n",
      "Epoch   0 Batch  281/1077 - Train Accuracy:  0.434, Validation Accuracy:  0.475, Loss:  2.104\n",
      "Epoch   0 Batch  282/1077 - Train Accuracy:  0.406, Validation Accuracy:  0.471, Loss:  2.165\n",
      "Epoch   0 Batch  283/1077 - Train Accuracy:  0.413, Validation Accuracy:  0.458, Loss:  2.161\n",
      "Epoch   0 Batch  284/1077 - Train Accuracy:  0.419, Validation Accuracy:  0.469, Loss:  2.219\n",
      "Epoch   0 Batch  285/1077 - Train Accuracy:  0.469, Validation Accuracy:  0.463, Loss:  2.039\n",
      "Epoch   0 Batch  286/1077 - Train Accuracy:  0.454, Validation Accuracy:  0.455, Loss:  2.075\n",
      "Epoch   0 Batch  287/1077 - Train Accuracy:  0.441, Validation Accuracy:  0.480, Loss:  2.059\n",
      "Epoch   0 Batch  288/1077 - Train Accuracy:  0.400, Validation Accuracy:  0.471, Loss:  2.133\n",
      "Epoch   0 Batch  289/1077 - Train Accuracy:  0.429, Validation Accuracy:  0.467, Loss:  2.076\n",
      "Epoch   0 Batch  290/1077 - Train Accuracy:  0.430, Validation Accuracy:  0.462, Loss:  2.126\n",
      "Epoch   0 Batch  291/1077 - Train Accuracy:  0.436, Validation Accuracy:  0.469, Loss:  2.032\n",
      "Epoch   0 Batch  292/1077 - Train Accuracy:  0.442, Validation Accuracy:  0.475, Loss:  2.005\n",
      "Epoch   0 Batch  293/1077 - Train Accuracy:  0.388, Validation Accuracy:  0.471, Loss:  2.101\n",
      "Epoch   0 Batch  294/1077 - Train Accuracy:  0.469, Validation Accuracy:  0.473, Loss:  1.987\n",
      "Epoch   0 Batch  295/1077 - Train Accuracy:  0.424, Validation Accuracy:  0.474, Loss:  2.121\n",
      "Epoch   0 Batch  296/1077 - Train Accuracy:  0.459, Validation Accuracy:  0.483, Loss:  1.976\n",
      "Epoch   0 Batch  297/1077 - Train Accuracy:  0.388, Validation Accuracy:  0.485, Loss:  2.113\n",
      "Epoch   0 Batch  298/1077 - Train Accuracy:  0.422, Validation Accuracy:  0.479, Loss:  2.109\n",
      "Epoch   0 Batch  299/1077 - Train Accuracy:  0.450, Validation Accuracy:  0.480, Loss:  1.936\n",
      "Epoch   0 Batch  300/1077 - Train Accuracy:  0.369, Validation Accuracy:  0.474, Loss:  2.097\n",
      "Epoch   0 Batch  301/1077 - Train Accuracy:  0.400, Validation Accuracy:  0.464, Loss:  2.015\n",
      "Epoch   0 Batch  302/1077 - Train Accuracy:  0.458, Validation Accuracy:  0.478, Loss:  2.059\n",
      "Epoch   0 Batch  303/1077 - Train Accuracy:  0.393, Validation Accuracy:  0.482, Loss:  2.100\n",
      "Epoch   0 Batch  304/1077 - Train Accuracy:  0.474, Validation Accuracy:  0.489, Loss:  2.006\n",
      "Epoch   0 Batch  305/1077 - Train Accuracy:  0.436, Validation Accuracy:  0.488, Loss:  2.116\n",
      "Epoch   0 Batch  306/1077 - Train Accuracy:  0.422, Validation Accuracy:  0.490, Loss:  2.003\n",
      "Epoch   0 Batch  307/1077 - Train Accuracy:  0.405, Validation Accuracy:  0.493, Loss:  2.010\n",
      "Epoch   0 Batch  308/1077 - Train Accuracy:  0.396, Validation Accuracy:  0.484, Loss:  2.102\n",
      "Epoch   0 Batch  309/1077 - Train Accuracy:  0.400, Validation Accuracy:  0.470, Loss:  2.028\n",
      "Epoch   0 Batch  310/1077 - Train Accuracy:  0.394, Validation Accuracy:  0.479, Loss:  2.019\n",
      "Epoch   0 Batch  311/1077 - Train Accuracy:  0.507, Validation Accuracy:  0.487, Loss:  1.962\n",
      "Epoch   0 Batch  312/1077 - Train Accuracy:  0.452, Validation Accuracy:  0.488, Loss:  2.031\n",
      "Epoch   0 Batch  313/1077 - Train Accuracy:  0.431, Validation Accuracy:  0.482, Loss:  2.072\n",
      "Epoch   0 Batch  314/1077 - Train Accuracy:  0.479, Validation Accuracy:  0.482, Loss:  1.972\n",
      "Epoch   0 Batch  315/1077 - Train Accuracy:  0.452, Validation Accuracy:  0.469, Loss:  1.977\n",
      "Epoch   0 Batch  316/1077 - Train Accuracy:  0.444, Validation Accuracy:  0.484, Loss:  1.933\n",
      "Epoch   0 Batch  317/1077 - Train Accuracy:  0.405, Validation Accuracy:  0.475, Loss:  2.100\n",
      "Epoch   0 Batch  318/1077 - Train Accuracy:  0.413, Validation Accuracy:  0.480, Loss:  1.979\n",
      "Epoch   0 Batch  319/1077 - Train Accuracy:  0.425, Validation Accuracy:  0.487, Loss:  1.964\n",
      "Epoch   0 Batch  320/1077 - Train Accuracy:  0.432, Validation Accuracy:  0.485, Loss:  2.047\n",
      "Epoch   0 Batch  321/1077 - Train Accuracy:  0.421, Validation Accuracy:  0.476, Loss:  1.934\n",
      "Epoch   0 Batch  322/1077 - Train Accuracy:  0.436, Validation Accuracy:  0.485, Loss:  1.991\n",
      "Epoch   0 Batch  323/1077 - Train Accuracy:  0.484, Validation Accuracy:  0.486, Loss:  1.995\n",
      "Epoch   0 Batch  324/1077 - Train Accuracy:  0.430, Validation Accuracy:  0.491, Loss:  2.002\n",
      "Epoch   0 Batch  325/1077 - Train Accuracy:  0.475, Validation Accuracy:  0.483, Loss:  1.893\n",
      "Epoch   0 Batch  326/1077 - Train Accuracy:  0.482, Validation Accuracy:  0.489, Loss:  1.885\n",
      "Epoch   0 Batch  327/1077 - Train Accuracy:  0.419, Validation Accuracy:  0.473, Loss:  2.015\n",
      "Epoch   0 Batch  328/1077 - Train Accuracy:  0.438, Validation Accuracy:  0.478, Loss:  1.976\n",
      "Epoch   0 Batch  329/1077 - Train Accuracy:  0.415, Validation Accuracy:  0.483, Loss:  1.993\n",
      "Epoch   0 Batch  330/1077 - Train Accuracy:  0.432, Validation Accuracy:  0.490, Loss:  1.959\n",
      "Epoch   0 Batch  331/1077 - Train Accuracy:  0.424, Validation Accuracy:  0.485, Loss:  2.030\n",
      "Epoch   0 Batch  332/1077 - Train Accuracy:  0.456, Validation Accuracy:  0.482, Loss:  1.891\n",
      "Epoch   0 Batch  333/1077 - Train Accuracy:  0.423, Validation Accuracy:  0.479, Loss:  1.926\n",
      "Epoch   0 Batch  334/1077 - Train Accuracy:  0.454, Validation Accuracy:  0.485, Loss:  1.953\n",
      "Epoch   0 Batch  335/1077 - Train Accuracy:  0.505, Validation Accuracy:  0.481, Loss:  1.914\n",
      "Epoch   0 Batch  336/1077 - Train Accuracy:  0.451, Validation Accuracy:  0.476, Loss:  1.970\n",
      "Epoch   0 Batch  337/1077 - Train Accuracy:  0.439, Validation Accuracy:  0.475, Loss:  2.031\n",
      "Epoch   0 Batch  338/1077 - Train Accuracy:  0.446, Validation Accuracy:  0.464, Loss:  1.923\n",
      "Epoch   0 Batch  339/1077 - Train Accuracy:  0.442, Validation Accuracy:  0.482, Loss:  1.950\n",
      "Epoch   0 Batch  340/1077 - Train Accuracy:  0.395, Validation Accuracy:  0.486, Loss:  2.002\n",
      "Epoch   0 Batch  341/1077 - Train Accuracy:  0.441, Validation Accuracy:  0.483, Loss:  1.955\n",
      "Epoch   0 Batch  342/1077 - Train Accuracy:  0.436, Validation Accuracy:  0.485, Loss:  1.931\n",
      "Epoch   0 Batch  343/1077 - Train Accuracy:  0.425, Validation Accuracy:  0.482, Loss:  2.008\n",
      "Epoch   0 Batch  344/1077 - Train Accuracy:  0.407, Validation Accuracy:  0.485, Loss:  1.932\n",
      "Epoch   0 Batch  345/1077 - Train Accuracy:  0.459, Validation Accuracy:  0.472, Loss:  1.864\n",
      "Epoch   0 Batch  346/1077 - Train Accuracy:  0.412, Validation Accuracy:  0.473, Loss:  1.949\n",
      "Epoch   0 Batch  347/1077 - Train Accuracy:  0.457, Validation Accuracy:  0.483, Loss:  1.885\n",
      "Epoch   0 Batch  348/1077 - Train Accuracy:  0.468, Validation Accuracy:  0.483, Loss:  1.887\n",
      "Epoch   0 Batch  349/1077 - Train Accuracy:  0.409, Validation Accuracy:  0.477, Loss:  1.946\n",
      "Epoch   0 Batch  350/1077 - Train Accuracy:  0.407, Validation Accuracy:  0.482, Loss:  2.034\n",
      "Epoch   0 Batch  351/1077 - Train Accuracy:  0.399, Validation Accuracy:  0.494, Loss:  2.066\n",
      "Epoch   0 Batch  352/1077 - Train Accuracy:  0.395, Validation Accuracy:  0.508, Loss:  1.969\n",
      "Epoch   0 Batch  353/1077 - Train Accuracy:  0.429, Validation Accuracy:  0.508, Loss:  1.989\n",
      "Epoch   0 Batch  354/1077 - Train Accuracy:  0.424, Validation Accuracy:  0.489, Loss:  1.976\n",
      "Epoch   0 Batch  355/1077 - Train Accuracy:  0.461, Validation Accuracy:  0.515, Loss:  1.894\n",
      "Epoch   0 Batch  356/1077 - Train Accuracy:  0.446, Validation Accuracy:  0.504, Loss:  1.969\n",
      "Epoch   0 Batch  357/1077 - Train Accuracy:  0.502, Validation Accuracy:  0.507, Loss:  1.933\n",
      "Epoch   0 Batch  358/1077 - Train Accuracy:  0.449, Validation Accuracy:  0.518, Loss:  1.887\n",
      "Epoch   0 Batch  359/1077 - Train Accuracy:  0.456, Validation Accuracy:  0.497, Loss:  1.902\n",
      "Epoch   0 Batch  360/1077 - Train Accuracy:  0.444, Validation Accuracy:  0.498, Loss:  1.861\n",
      "Epoch   0 Batch  361/1077 - Train Accuracy:  0.454, Validation Accuracy:  0.501, Loss:  1.900\n",
      "Epoch   0 Batch  362/1077 - Train Accuracy:  0.499, Validation Accuracy:  0.525, Loss:  1.916\n",
      "Epoch   0 Batch  363/1077 - Train Accuracy:  0.429, Validation Accuracy:  0.521, Loss:  1.948\n",
      "Epoch   0 Batch  364/1077 - Train Accuracy:  0.455, Validation Accuracy:  0.499, Loss:  1.926\n",
      "Epoch   0 Batch  365/1077 - Train Accuracy:  0.436, Validation Accuracy:  0.524, Loss:  1.904\n",
      "Epoch   0 Batch  366/1077 - Train Accuracy:  0.475, Validation Accuracy:  0.531, Loss:  1.873\n",
      "Epoch   0 Batch  367/1077 - Train Accuracy:  0.479, Validation Accuracy:  0.519, Loss:  1.844\n",
      "Epoch   0 Batch  368/1077 - Train Accuracy:  0.436, Validation Accuracy:  0.511, Loss:  1.880\n",
      "Epoch   0 Batch  369/1077 - Train Accuracy:  0.450, Validation Accuracy:  0.501, Loss:  1.889\n",
      "Epoch   0 Batch  370/1077 - Train Accuracy:  0.469, Validation Accuracy:  0.527, Loss:  1.858\n",
      "Epoch   0 Batch  371/1077 - Train Accuracy:  0.492, Validation Accuracy:  0.499, Loss:  1.884\n",
      "Epoch   0 Batch  372/1077 - Train Accuracy:  0.451, Validation Accuracy:  0.505, Loss:  1.980\n",
      "Epoch   0 Batch  373/1077 - Train Accuracy:  0.497, Validation Accuracy:  0.499, Loss:  1.794\n",
      "Epoch   0 Batch  374/1077 - Train Accuracy:  0.402, Validation Accuracy:  0.499, Loss:  1.989\n",
      "Epoch   0 Batch  375/1077 - Train Accuracy:  0.501, Validation Accuracy:  0.499, Loss:  1.824\n",
      "Epoch   0 Batch  376/1077 - Train Accuracy:  0.499, Validation Accuracy:  0.523, Loss:  1.863\n",
      "Epoch   0 Batch  377/1077 - Train Accuracy:  0.468, Validation Accuracy:  0.504, Loss:  1.961\n",
      "Epoch   0 Batch  378/1077 - Train Accuracy:  0.440, Validation Accuracy:  0.504, Loss:  1.855\n",
      "Epoch   0 Batch  379/1077 - Train Accuracy:  0.461, Validation Accuracy:  0.509, Loss:  1.894\n",
      "Epoch   0 Batch  380/1077 - Train Accuracy:  0.504, Validation Accuracy:  0.515, Loss:  1.804\n",
      "Epoch   0 Batch  381/1077 - Train Accuracy:  0.484, Validation Accuracy:  0.523, Loss:  1.955\n",
      "Epoch   0 Batch  382/1077 - Train Accuracy:  0.478, Validation Accuracy:  0.524, Loss:  1.922\n",
      "Epoch   0 Batch  383/1077 - Train Accuracy:  0.509, Validation Accuracy:  0.511, Loss:  1.834\n",
      "Epoch   0 Batch  384/1077 - Train Accuracy:  0.467, Validation Accuracy:  0.513, Loss:  1.876\n",
      "Epoch   0 Batch  385/1077 - Train Accuracy:  0.449, Validation Accuracy:  0.504, Loss:  1.883\n",
      "Epoch   0 Batch  386/1077 - Train Accuracy:  0.452, Validation Accuracy:  0.489, Loss:  1.836\n",
      "Epoch   0 Batch  387/1077 - Train Accuracy:  0.471, Validation Accuracy:  0.491, Loss:  1.892\n",
      "Epoch   0 Batch  388/1077 - Train Accuracy:  0.449, Validation Accuracy:  0.509, Loss:  1.829\n",
      "Epoch   0 Batch  389/1077 - Train Accuracy:  0.483, Validation Accuracy:  0.521, Loss:  1.848\n",
      "Epoch   0 Batch  390/1077 - Train Accuracy:  0.452, Validation Accuracy:  0.507, Loss:  1.917\n",
      "Epoch   0 Batch  391/1077 - Train Accuracy:  0.499, Validation Accuracy:  0.518, Loss:  1.807\n",
      "Epoch   0 Batch  392/1077 - Train Accuracy:  0.454, Validation Accuracy:  0.525, Loss:  1.852\n",
      "Epoch   0 Batch  393/1077 - Train Accuracy:  0.487, Validation Accuracy:  0.502, Loss:  1.799\n",
      "Epoch   0 Batch  394/1077 - Train Accuracy:  0.427, Validation Accuracy:  0.511, Loss:  1.875\n",
      "Epoch   0 Batch  395/1077 - Train Accuracy:  0.496, Validation Accuracy:  0.523, Loss:  1.825\n",
      "Epoch   0 Batch  396/1077 - Train Accuracy:  0.480, Validation Accuracy:  0.516, Loss:  1.851\n",
      "Epoch   0 Batch  397/1077 - Train Accuracy:  0.494, Validation Accuracy:  0.505, Loss:  1.830\n",
      "Epoch   0 Batch  398/1077 - Train Accuracy:  0.467, Validation Accuracy:  0.527, Loss:  1.930\n",
      "Epoch   0 Batch  399/1077 - Train Accuracy:  0.425, Validation Accuracy:  0.532, Loss:  1.907\n",
      "Epoch   0 Batch  400/1077 - Train Accuracy:  0.473, Validation Accuracy:  0.517, Loss:  1.836\n",
      "Epoch   0 Batch  401/1077 - Train Accuracy:  0.490, Validation Accuracy:  0.514, Loss:  1.855\n",
      "Epoch   0 Batch  402/1077 - Train Accuracy:  0.493, Validation Accuracy:  0.525, Loss:  1.794\n",
      "Epoch   0 Batch  403/1077 - Train Accuracy:  0.464, Validation Accuracy:  0.504, Loss:  1.845\n",
      "Epoch   0 Batch  404/1077 - Train Accuracy:  0.495, Validation Accuracy:  0.485, Loss:  1.783\n",
      "Epoch   0 Batch  405/1077 - Train Accuracy:  0.422, Validation Accuracy:  0.481, Loss:  1.912\n",
      "Epoch   0 Batch  406/1077 - Train Accuracy:  0.437, Validation Accuracy:  0.489, Loss:  1.824\n",
      "Epoch   0 Batch  407/1077 - Train Accuracy:  0.475, Validation Accuracy:  0.520, Loss:  1.888\n",
      "Epoch   0 Batch  408/1077 - Train Accuracy:  0.490, Validation Accuracy:  0.523, Loss:  1.771\n",
      "Epoch   0 Batch  409/1077 - Train Accuracy:  0.436, Validation Accuracy:  0.505, Loss:  1.819\n",
      "Epoch   0 Batch  410/1077 - Train Accuracy:  0.443, Validation Accuracy:  0.519, Loss:  1.847\n",
      "Epoch   0 Batch  411/1077 - Train Accuracy:  0.486, Validation Accuracy:  0.521, Loss:  1.744\n",
      "Epoch   0 Batch  412/1077 - Train Accuracy:  0.495, Validation Accuracy:  0.529, Loss:  1.766\n",
      "Epoch   0 Batch  413/1077 - Train Accuracy:  0.516, Validation Accuracy:  0.523, Loss:  1.792\n",
      "Epoch   0 Batch  414/1077 - Train Accuracy:  0.457, Validation Accuracy:  0.524, Loss:  1.867\n",
      "Epoch   0 Batch  415/1077 - Train Accuracy:  0.496, Validation Accuracy:  0.523, Loss:  1.784\n",
      "Epoch   0 Batch  416/1077 - Train Accuracy:  0.500, Validation Accuracy:  0.533, Loss:  1.807\n",
      "Epoch   0 Batch  417/1077 - Train Accuracy:  0.495, Validation Accuracy:  0.543, Loss:  1.885\n",
      "Epoch   0 Batch  418/1077 - Train Accuracy:  0.468, Validation Accuracy:  0.544, Loss:  1.793\n",
      "Epoch   0 Batch  419/1077 - Train Accuracy:  0.496, Validation Accuracy:  0.549, Loss:  1.822\n",
      "Epoch   0 Batch  420/1077 - Train Accuracy:  0.491, Validation Accuracy:  0.546, Loss:  1.792\n",
      "Epoch   0 Batch  421/1077 - Train Accuracy:  0.489, Validation Accuracy:  0.530, Loss:  1.816\n",
      "Epoch   0 Batch  422/1077 - Train Accuracy:  0.504, Validation Accuracy:  0.540, Loss:  1.748\n",
      "Epoch   0 Batch  423/1077 - Train Accuracy:  0.523, Validation Accuracy:  0.549, Loss:  1.865\n",
      "Epoch   0 Batch  424/1077 - Train Accuracy:  0.428, Validation Accuracy:  0.537, Loss:  1.780\n",
      "Epoch   0 Batch  425/1077 - Train Accuracy:  0.514, Validation Accuracy:  0.537, Loss:  1.716\n",
      "Epoch   0 Batch  426/1077 - Train Accuracy:  0.481, Validation Accuracy:  0.531, Loss:  1.794\n",
      "Epoch   0 Batch  427/1077 - Train Accuracy:  0.474, Validation Accuracy:  0.534, Loss:  1.768\n",
      "Epoch   0 Batch  428/1077 - Train Accuracy:  0.529, Validation Accuracy:  0.542, Loss:  1.756\n",
      "Epoch   0 Batch  429/1077 - Train Accuracy:  0.528, Validation Accuracy:  0.543, Loss:  1.720\n",
      "Epoch   0 Batch  430/1077 - Train Accuracy:  0.495, Validation Accuracy:  0.536, Loss:  1.830\n",
      "Epoch   0 Batch  431/1077 - Train Accuracy:  0.467, Validation Accuracy:  0.558, Loss:  1.728\n",
      "Epoch   0 Batch  432/1077 - Train Accuracy:  0.532, Validation Accuracy:  0.556, Loss:  1.784\n",
      "Epoch   0 Batch  433/1077 - Train Accuracy:  0.495, Validation Accuracy:  0.558, Loss:  1.822\n",
      "Epoch   0 Batch  434/1077 - Train Accuracy:  0.486, Validation Accuracy:  0.553, Loss:  1.796\n",
      "Epoch   0 Batch  435/1077 - Train Accuracy:  0.507, Validation Accuracy:  0.545, Loss:  1.889\n",
      "Epoch   0 Batch  436/1077 - Train Accuracy:  0.514, Validation Accuracy:  0.534, Loss:  1.777\n",
      "Epoch   0 Batch  437/1077 - Train Accuracy:  0.488, Validation Accuracy:  0.564, Loss:  1.760\n",
      "Epoch   0 Batch  438/1077 - Train Accuracy:  0.503, Validation Accuracy:  0.562, Loss:  1.710\n",
      "Epoch   0 Batch  439/1077 - Train Accuracy:  0.505, Validation Accuracy:  0.559, Loss:  1.783\n",
      "Epoch   0 Batch  440/1077 - Train Accuracy:  0.514, Validation Accuracy:  0.558, Loss:  1.835\n",
      "Epoch   0 Batch  441/1077 - Train Accuracy:  0.477, Validation Accuracy:  0.556, Loss:  1.752\n",
      "Epoch   0 Batch  442/1077 - Train Accuracy:  0.499, Validation Accuracy:  0.545, Loss:  1.713\n",
      "Epoch   0 Batch  443/1077 - Train Accuracy:  0.525, Validation Accuracy:  0.561, Loss:  1.684\n",
      "Epoch   0 Batch  444/1077 - Train Accuracy:  0.491, Validation Accuracy:  0.548, Loss:  1.858\n",
      "Epoch   0 Batch  445/1077 - Train Accuracy:  0.479, Validation Accuracy:  0.541, Loss:  1.842\n",
      "Epoch   0 Batch  446/1077 - Train Accuracy:  0.523, Validation Accuracy:  0.540, Loss:  1.706\n",
      "Epoch   0 Batch  447/1077 - Train Accuracy:  0.492, Validation Accuracy:  0.538, Loss:  1.771\n",
      "Epoch   0 Batch  448/1077 - Train Accuracy:  0.527, Validation Accuracy:  0.543, Loss:  1.789\n",
      "Epoch   0 Batch  449/1077 - Train Accuracy:  0.472, Validation Accuracy:  0.522, Loss:  1.816\n",
      "Epoch   0 Batch  450/1077 - Train Accuracy:  0.500, Validation Accuracy:  0.535, Loss:  1.745\n",
      "Epoch   0 Batch  451/1077 - Train Accuracy:  0.529, Validation Accuracy:  0.538, Loss:  1.760\n",
      "Epoch   0 Batch  452/1077 - Train Accuracy:  0.514, Validation Accuracy:  0.539, Loss:  1.785\n",
      "Epoch   0 Batch  453/1077 - Train Accuracy:  0.521, Validation Accuracy:  0.538, Loss:  1.756\n",
      "Epoch   0 Batch  454/1077 - Train Accuracy:  0.531, Validation Accuracy:  0.559, Loss:  1.786\n",
      "Epoch   0 Batch  455/1077 - Train Accuracy:  0.534, Validation Accuracy:  0.556, Loss:  1.758\n",
      "Epoch   0 Batch  456/1077 - Train Accuracy:  0.513, Validation Accuracy:  0.556, Loss:  1.754\n",
      "Epoch   0 Batch  457/1077 - Train Accuracy:  0.504, Validation Accuracy:  0.541, Loss:  1.760\n",
      "Epoch   0 Batch  458/1077 - Train Accuracy:  0.463, Validation Accuracy:  0.541, Loss:  1.753\n",
      "Epoch   0 Batch  459/1077 - Train Accuracy:  0.532, Validation Accuracy:  0.552, Loss:  1.697\n",
      "Epoch   0 Batch  460/1077 - Train Accuracy:  0.477, Validation Accuracy:  0.554, Loss:  1.760\n",
      "Epoch   0 Batch  461/1077 - Train Accuracy:  0.497, Validation Accuracy:  0.545, Loss:  1.723\n",
      "Epoch   0 Batch  462/1077 - Train Accuracy:  0.482, Validation Accuracy:  0.537, Loss:  1.754\n",
      "Epoch   0 Batch  463/1077 - Train Accuracy:  0.456, Validation Accuracy:  0.538, Loss:  1.783\n",
      "Epoch   0 Batch  464/1077 - Train Accuracy:  0.539, Validation Accuracy:  0.537, Loss:  1.776\n",
      "Epoch   0 Batch  465/1077 - Train Accuracy:  0.490, Validation Accuracy:  0.549, Loss:  1.798\n",
      "Epoch   0 Batch  466/1077 - Train Accuracy:  0.499, Validation Accuracy:  0.544, Loss:  1.745\n",
      "Epoch   0 Batch  467/1077 - Train Accuracy:  0.574, Validation Accuracy:  0.536, Loss:  1.689\n",
      "Epoch   0 Batch  468/1077 - Train Accuracy:  0.509, Validation Accuracy:  0.537, Loss:  1.741\n",
      "Epoch   0 Batch  469/1077 - Train Accuracy:  0.467, Validation Accuracy:  0.515, Loss:  1.826\n",
      "Epoch   0 Batch  470/1077 - Train Accuracy:  0.477, Validation Accuracy:  0.548, Loss:  1.800\n",
      "Epoch   0 Batch  471/1077 - Train Accuracy:  0.488, Validation Accuracy:  0.558, Loss:  1.680\n",
      "Epoch   0 Batch  472/1077 - Train Accuracy:  0.517, Validation Accuracy:  0.558, Loss:  1.769\n",
      "Epoch   0 Batch  473/1077 - Train Accuracy:  0.512, Validation Accuracy:  0.567, Loss:  1.746\n",
      "Epoch   0 Batch  474/1077 - Train Accuracy:  0.502, Validation Accuracy:  0.550, Loss:  1.752\n",
      "Epoch   0 Batch  475/1077 - Train Accuracy:  0.516, Validation Accuracy:  0.540, Loss:  1.615\n",
      "Epoch   0 Batch  476/1077 - Train Accuracy:  0.466, Validation Accuracy:  0.547, Loss:  1.783\n",
      "Epoch   0 Batch  477/1077 - Train Accuracy:  0.546, Validation Accuracy:  0.550, Loss:  1.646\n",
      "Epoch   0 Batch  478/1077 - Train Accuracy:  0.508, Validation Accuracy:  0.551, Loss:  1.885\n",
      "Epoch   0 Batch  479/1077 - Train Accuracy:  0.505, Validation Accuracy:  0.567, Loss:  1.773\n",
      "Epoch   0 Batch  480/1077 - Train Accuracy:  0.512, Validation Accuracy:  0.569, Loss:  1.760\n",
      "Epoch   0 Batch  481/1077 - Train Accuracy:  0.518, Validation Accuracy:  0.569, Loss:  1.734\n",
      "Epoch   0 Batch  482/1077 - Train Accuracy:  0.506, Validation Accuracy:  0.558, Loss:  1.799\n",
      "Epoch   0 Batch  483/1077 - Train Accuracy:  0.484, Validation Accuracy:  0.536, Loss:  1.767\n",
      "Epoch   0 Batch  484/1077 - Train Accuracy:  0.498, Validation Accuracy:  0.540, Loss:  1.715\n",
      "Epoch   0 Batch  485/1077 - Train Accuracy:  0.499, Validation Accuracy:  0.507, Loss:  1.709\n"
     ]
    }
   ],
   "source": [
    "\"\"\"\n",
    "DON'T MODIFY ANYTHING IN THIS CELL\n",
    "\"\"\"\n",
    "import time\n",
    "\n",
    "def get_accuracy(target, logits):\n",
    "    \"\"\"\n",
    "    Calculate accuracy\n",
    "    \"\"\"\n",
    "    max_seq = max(target.shape[1], logits.shape[1])\n",
    "    if max_seq - target.shape[1]:\n",
    "        target = np.pad(\n",
    "            target_batch,\n",
    "            [(0,0),(0,max_seq - target_batch.shape[1]), (0,0)],\n",
    "            'constant')\n",
    "    if max_seq - batch_train_logits.shape[1]:\n",
    "        logits = np.pad(\n",
    "            logits,\n",
    "            [(0,0),(0,max_seq - logits.shape[1]), (0,0)],\n",
    "            'constant')\n",
    "\n",
    "    return np.mean(np.equal(target, np.argmax(logits, 2)))\n",
    "\n",
    "train_source = source_int_text[batch_size:]\n",
    "train_target = target_int_text[batch_size:]\n",
    "\n",
    "valid_source = helper.pad_sentence_batch(source_int_text[:batch_size])\n",
    "valid_target = helper.pad_sentence_batch(target_int_text[:batch_size])\n",
    "\n",
    "with tf.Session(graph=train_graph) as sess:\n",
    "    sess.run(tf.global_variables_initializer())\n",
    "\n",
    "    for epoch_i in range(epochs):\n",
    "        for batch_i, (source_batch, target_batch) in enumerate(\n",
    "                helper.batch_data(train_source, train_target, batch_size)):\n",
    "            start_time = time.time()\n",
    "            \n",
    "            _, loss = sess.run(\n",
    "                [train_op, cost],\n",
    "                {input_data: source_batch,\n",
    "                 targets: target_batch,\n",
    "                 lr: learning_rate,\n",
    "                 sequence_length: target_batch.shape[1],\n",
    "                 keep_prob: keep_probability})\n",
    "            \n",
    "            batch_train_logits = sess.run(\n",
    "                inference_logits,\n",
    "                {input_data: source_batch, keep_prob: 1.0})\n",
    "            batch_valid_logits = sess.run(\n",
    "                inference_logits,\n",
    "                {input_data: valid_source, keep_prob: 1.0})\n",
    "                \n",
    "            train_acc = get_accuracy(target_batch, batch_train_logits)\n",
    "            valid_acc = get_accuracy(np.array(valid_target), batch_valid_logits)\n",
    "            end_time = time.time()\n",
    "            print('Epoch {:>3} Batch {:>4}/{} - Train Accuracy: {:>6.3f}, Validation Accuracy: {:>6.3f}, Loss: {:>6.3f}'\n",
    "                  .format(epoch_i, batch_i, len(source_int_text) // batch_size, train_acc, valid_acc, loss))\n",
    "\n",
    "    # Save Model\n",
    "    saver = tf.train.Saver()\n",
    "    saver.save(sess, save_path)\n",
    "    print('Model Trained and Saved')"
   ]
  },
  {
   "cell_type": "markdown",
   "metadata": {
    "deletable": true,
    "editable": true
   },
   "source": [
    "### Save Parameters\n",
    "Save the `batch_size` and `save_path` parameters for inference."
   ]
  },
  {
   "cell_type": "code",
   "execution_count": 21,
   "metadata": {
    "collapsed": true,
    "deletable": true,
    "editable": true
   },
   "outputs": [],
   "source": [
    "\"\"\"\n",
    "DON'T MODIFY ANYTHING IN THIS CELL\n",
    "\"\"\"\n",
    "# Save parameters for checkpoint\n",
    "helper.save_params(save_path)"
   ]
  },
  {
   "cell_type": "markdown",
   "metadata": {
    "deletable": true,
    "editable": true
   },
   "source": [
    "# Checkpoint"
   ]
  },
  {
   "cell_type": "code",
   "execution_count": 2,
   "metadata": {
    "collapsed": true,
    "deletable": true,
    "editable": true
   },
   "outputs": [],
   "source": [
    "\"\"\"\n",
    "DON'T MODIFY ANYTHING IN THIS CELL\n",
    "\"\"\"\n",
    "import tensorflow as tf\n",
    "import numpy as np\n",
    "import helper\n",
    "import problem_unittests as tests\n",
    "\n",
    "_, (source_vocab_to_int, target_vocab_to_int), (source_int_to_vocab, target_int_to_vocab) = helper.load_preprocess()\n",
    "load_path = helper.load_params()"
   ]
  },
  {
   "cell_type": "markdown",
   "metadata": {
    "deletable": true,
    "editable": true
   },
   "source": [
    "## Sentence to Sequence\n",
    "To feed a sentence into the model for translation, you first need to preprocess it.  Implement the function `sentence_to_seq()` to preprocess new sentences.\n",
    "\n",
    "- Convert the sentence to lowercase\n",
    "- Convert words into ids using `vocab_to_int`\n",
    " - Convert words not in the vocabulary, to the `<UNK>` word id."
   ]
  },
  {
   "cell_type": "code",
   "execution_count": 13,
   "metadata": {
    "collapsed": false,
    "deletable": true,
    "editable": true
   },
   "outputs": [
    {
     "name": "stdout",
     "output_type": "stream",
     "text": [
      "Tests Passed\n"
     ]
    }
   ],
   "source": [
    "def sentence_to_seq(sentence, vocab_to_int):\n",
    "    \"\"\"\n",
    "    Convert a sentence to a sequence of ids\n",
    "    :param sentence: String\n",
    "    :param vocab_to_int: Dictionary to go from the words to an id\n",
    "    :return: List of word ids\n",
    "    \"\"\"\n",
    "    # thanks for the tip ;) \n",
    "    return [vocab_to_int.get(word, vocab_to_int['<UNK>']) for word in sentence.lower().split()]\n",
    "\n",
    "\"\"\"\n",
    "DON'T MODIFY ANYTHING IN THIS CELL THAT IS BELOW THIS LINE\n",
    "\"\"\"\n",
    "tests.test_sentence_to_seq(sentence_to_seq)"
   ]
  },
  {
   "cell_type": "markdown",
   "metadata": {
    "deletable": true,
    "editable": true
   },
   "source": [
    "## Translate\n",
    "This will translate `translate_sentence` from English to French."
   ]
  },
  {
   "cell_type": "code",
   "execution_count": 8,
   "metadata": {
    "collapsed": false,
    "deletable": true,
    "editable": true
   },
   "outputs": [
    {
     "name": "stdout",
     "output_type": "stream",
     "text": [
      "Input\n",
      "  Word Ids:      [211, 204, 111, 122, 209, 136, 117, 33, 128, 144, 38, 122, 209, 11, 210, 194, 175]\n",
      "  English Words: ['the', 'united', 'states', 'is', 'sometimes', 'busy', 'during', 'january', ',', 'and', 'it', 'is', 'sometimes', 'warm', 'in', 'november', '.']\n",
      "\n",
      "Prediction\n",
      "  Word Ids:      [170, 34, 289, 345, 93, 245, 219, 151, 142, 70, 289, 345, 105, 245, 236, 337, 1]\n",
      "  French Words: ['les', 'états-unis', 'est', 'parfois', 'occupé', 'en', 'janvier', ',', 'et', 'il', 'est', 'parfois', 'chaud', 'en', 'novembre', '.', '<EOS>']\n"
     ]
    }
   ],
   "source": [
    "#translate_sentence = 'he saw a old yellow truck .'\n",
    "translate_sentence = 'the united states is sometimes busy during january , and it is sometimes warm in november .'\n",
    "\n",
    "\n",
    "\"\"\"\n",
    "DON'T MODIFY ANYTHING IN THIS CELL\n",
    "\"\"\"\n",
    "translate_sentence = sentence_to_seq(translate_sentence, source_vocab_to_int)\n",
    "\n",
    "loaded_graph = tf.Graph()\n",
    "with tf.Session(graph=loaded_graph) as sess:\n",
    "    # Load saved model\n",
    "    loader = tf.train.import_meta_graph(load_path + '.meta')\n",
    "    loader.restore(sess, load_path)\n",
    "\n",
    "    input_data = loaded_graph.get_tensor_by_name('input:0')\n",
    "    logits = loaded_graph.get_tensor_by_name('logits:0')\n",
    "    keep_prob = loaded_graph.get_tensor_by_name('keep_prob:0')\n",
    "\n",
    "    translate_logits = sess.run(logits, {input_data: [translate_sentence], keep_prob: 1.0})[0]\n",
    "\n",
    "print('Input')\n",
    "print('  Word Ids:      {}'.format([i for i in translate_sentence]))\n",
    "print('  English Words: {}'.format([source_int_to_vocab[i] for i in translate_sentence]))\n",
    "\n",
    "print('\\nPrediction')\n",
    "print('  Word Ids:      {}'.format([i for i in np.argmax(translate_logits, 1)]))\n",
    "print('  French Words: {}'.format([target_int_to_vocab[i] for i in np.argmax(translate_logits, 1)]))"
   ]
  },
  {
   "cell_type": "markdown",
   "metadata": {
    "deletable": true,
    "editable": true
   },
   "source": [
    "## Imperfect Translation\n",
    "You might notice that some sentences translate better than others.  Since the dataset you're using only has a vocabulary of 227 English words of the thousands that you use, you're only going to see good results using these words.  For this project, you don't need a perfect translation. However, if you want to create a better translation model, you'll need better data.\n",
    "\n",
    "You can train on the [WMT10 French-English corpus](http://www.statmt.org/wmt10/training-giga-fren.tar).  This dataset has more vocabulary and richer in topics discussed.  However, this will take you days to train, so make sure you've a GPU and the neural network is performing well on dataset we provided.  Just make sure you play with the WMT10 corpus after you've submitted this project.\n",
    "## Submitting This Project\n",
    "When submitting this project, make sure to run all the cells before saving the notebook. Save the notebook file as \"dlnd_language_translation.ipynb\" and save it as a HTML file under \"File\" -> \"Download as\". Include the \"helper.py\" and \"problem_unittests.py\" files in your submission."
   ]
  }
 ],
 "metadata": {
  "kernelspec": {
   "display_name": "Python 3",
   "language": "python",
   "name": "python3"
  },
  "language_info": {
   "codemirror_mode": {
    "name": "ipython",
    "version": 3
   },
   "file_extension": ".py",
   "mimetype": "text/x-python",
   "name": "python",
   "nbconvert_exporter": "python",
   "pygments_lexer": "ipython3",
   "version": "3.5.2"
  },
  "widgets": {
   "state": {},
   "version": "1.1.2"
  }
 },
 "nbformat": 4,
 "nbformat_minor": 1
}
